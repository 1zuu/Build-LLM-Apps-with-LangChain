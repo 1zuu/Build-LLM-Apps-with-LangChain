{
 "cells": [
  {
   "cell_type": "markdown",
   "metadata": {},
   "source": [
    "### Why memory is important?\n",
    "    - chat models totally rely on memory\n",
    "    - memory is the key to understand the context\n",
    "    \n",
    "### How to handle memory on LLMs?\n",
    "    1. put it in the prompt\n",
    "    2. have external lookup\n",
    "\n",
    "### What is the best way to handle memory?\n",
    "    - put it in the prompt is easier but is not the best way, because as conversation goes on, the prompt will be too long\n",
    "      but we can recosntruct the memory from the conversation in different ways to optimize the memory as,\n",
    "            1. summarize the conversation\n",
    "            2. buffer the conversation\n",
    "            3. buffer the conversation with window  \n",
    "            4. buffer the conversation with window and summarization\n",
    "            5. use knowledge graph "
   ]
  },
  {
   "cell_type": "code",
   "execution_count": 42,
   "metadata": {},
   "outputs": [],
   "source": [
    "import yaml, os, openai\n",
    "from langchain.llms import OpenAI\n",
    "from langchain.chat_models import ChatOpenAI\n",
    "from langchain.chains import ConversationChain\n",
    "from langchain.prompts.prompt import PromptTemplate\n",
    "from langchain.chains.conversation.memory import ConversationBufferMemory, \\\n",
    "                                                 ConversationSummaryMemory, \\\n",
    "                                                 ConversationBufferWindowMemory, \\\n",
    "                                                 ConversationSummaryBufferMemory, \\\n",
    "                                                 ConversationKGMemory, ConversationEntityMemory"
   ]
  },
  {
   "cell_type": "code",
   "execution_count": 6,
   "metadata": {},
   "outputs": [],
   "source": [
    "with open('cadentials.yaml') as f:\n",
    "    credentials = yaml.load(f, Loader=yaml.FullLoader)\n",
    "\n",
    "os.environ['OPENAI_API_KEY'] = credentials['OPENAI_API_KEY']\n",
    "os.environ['HUGGINGFACEHUB_API_TOKEN'] = credentials['HUGGINGFACEHUB_API_TOKEN']\n",
    "os.environ['ENGINE'] = credentials['ENGINE']\n",
    "\n",
    "openai.api_key = credentials['OPENAI_API_KEY']\n",
    "openai.api_base = credentials['OPENAI_API_BASE']\n",
    "openai.api_type = credentials['OPENAI_API_TYPE']\n",
    "openai.api_version = credentials['OPENAI_API_VERSION']\n",
    "openai.engine = credentials['ENGINE']"
   ]
  },
  {
   "cell_type": "code",
   "execution_count": 3,
   "metadata": {},
   "outputs": [
    {
     "name": "stderr",
     "output_type": "stream",
     "text": [
      "WARNING! engine is not default parameter.\n",
      "                    engine was transferred to model_kwargs.\n",
      "                    Please confirm that engine is what you intended.\n"
     ]
    }
   ],
   "source": [
    "llm = ChatOpenAI(\n",
    "                openai_api_key=os.environ[\"OPENAI_API_KEY\"],\n",
    "                engine = os.environ[\"ENGINE\"],\n",
    "                model='gpt-3.5-turbo',\n",
    "                temperature=0.9, \n",
    "                max_tokens = 256\n",
    "                )"
   ]
  },
  {
   "cell_type": "markdown",
   "metadata": {},
   "source": [
    "## ConversationBufferMemory"
   ]
  },
  {
   "cell_type": "code",
   "execution_count": 7,
   "metadata": {},
   "outputs": [],
   "source": [
    "memory = ConversationBufferMemory()\n",
    "\n",
    "conversation = ConversationChain(\n",
    "                                llm=llm, \n",
    "                                verbose=True, \n",
    "                                memory=memory\n",
    "                                )"
   ]
  },
  {
   "cell_type": "code",
   "execution_count": 8,
   "metadata": {},
   "outputs": [
    {
     "name": "stdout",
     "output_type": "stream",
     "text": [
      "\n",
      "\n",
      "\u001b[1m> Entering new ConversationChain chain...\u001b[0m\n",
      "Prompt after formatting:\n",
      "\u001b[32;1m\u001b[1;3mThe following is a friendly conversation between a human and an AI. The AI is talkative and provides lots of specific details from its context. If the AI does not know the answer to a question, it truthfully says it does not know.\n",
      "\n",
      "Current conversation:\n",
      "\n",
      "Human: Hi there! I am Zuu\n",
      "AI:\u001b[0m\n",
      "\n",
      "\u001b[1m> Finished chain.\u001b[0m\n"
     ]
    },
    {
     "data": {
      "text/plain": [
       "\"Hello, Zuu! I'm an AI designed to have conversations with people. How can I assist you today?\""
      ]
     },
     "execution_count": 8,
     "metadata": {},
     "output_type": "execute_result"
    }
   ],
   "source": [
    "conversation.predict(input=\"Hi there! I am Zuu\")"
   ]
  },
  {
   "cell_type": "code",
   "execution_count": 9,
   "metadata": {},
   "outputs": [
    {
     "name": "stdout",
     "output_type": "stream",
     "text": [
      "\n",
      "\n",
      "\u001b[1m> Entering new ConversationChain chain...\u001b[0m\n",
      "Prompt after formatting:\n",
      "\u001b[32;1m\u001b[1;3mThe following is a friendly conversation between a human and an AI. The AI is talkative and provides lots of specific details from its context. If the AI does not know the answer to a question, it truthfully says it does not know.\n",
      "\n",
      "Current conversation:\n",
      "Human: Hi there! I am Zuu\n",
      "AI: Hello, Zuu! I'm an AI designed to have conversations with people. How can I assist you today?\n",
      "Human: Do you know machine learning?\n",
      "AI:\u001b[0m\n",
      "\n",
      "\u001b[1m> Finished chain.\u001b[0m\n"
     ]
    },
    {
     "data": {
      "text/plain": [
       "'Yes, I am familiar with machine learning. Machine learning is a subset of artificial intelligence that focuses on the development of algorithms and models that allow computers to learn and make predictions or decisions without being explicitly programmed. It involves the use of large amounts of data to train models and improve their performance over time. Machine learning is used in a wide range of applications, such as image and speech recognition, natural language processing, recommendation systems, and autonomous vehicles, to name just a few.'"
      ]
     },
     "execution_count": 9,
     "metadata": {},
     "output_type": "execute_result"
    }
   ],
   "source": [
    "conversation.predict(input=\"Do you know machine learning?\")"
   ]
  },
  {
   "cell_type": "code",
   "execution_count": 10,
   "metadata": {},
   "outputs": [
    {
     "name": "stdout",
     "output_type": "stream",
     "text": [
      "\n",
      "\n",
      "\u001b[1m> Entering new ConversationChain chain...\u001b[0m\n",
      "Prompt after formatting:\n",
      "\u001b[32;1m\u001b[1;3mThe following is a friendly conversation between a human and an AI. The AI is talkative and provides lots of specific details from its context. If the AI does not know the answer to a question, it truthfully says it does not know.\n",
      "\n",
      "Current conversation:\n",
      "Human: Hi there! I am Zuu\n",
      "AI: Hello, Zuu! I'm an AI designed to have conversations with people. How can I assist you today?\n",
      "Human: Do you know machine learning?\n",
      "AI: Yes, I am familiar with machine learning. Machine learning is a subset of artificial intelligence that focuses on the development of algorithms and models that allow computers to learn and make predictions or decisions without being explicitly programmed. It involves the use of large amounts of data to train models and improve their performance over time. Machine learning is used in a wide range of applications, such as image and speech recognition, natural language processing, recommendation systems, and autonomous vehicles, to name just a few.\n",
      "Human: Name few algorithms ?\n",
      "AI:\u001b[0m\n",
      "\n",
      "\u001b[1m> Finished chain.\u001b[0m\n"
     ]
    },
    {
     "data": {
      "text/plain": [
       "'Sure! There are numerous machine learning algorithms, but I can mention a few popular ones:\\n\\n1. Linear Regression: This algorithm is used to model the relationship between a dependent variable and one or more independent variables by fitting a linear equation to observed data.\\n\\n2. Logistic Regression: It is a classification algorithm used when the dependent variable is categorical. It predicts the probability of an event occurring based on independent variables.\\n\\n3. Support Vector Machines (SVM): SVM is a binary classification algorithm that finds an optimal hyperplane in a high-dimensional feature space to separate different classes.\\n\\n4. Decision Trees: This algorithm uses a tree-like model to make decisions based on splitting the data into various branches, considering different features at each node. It is commonly used for both classification and regression tasks.\\n\\n5. Random Forest: Random Forest is an ensemble learning method that combines multiple decision trees to make predictions. It reduces overfitting and improves accuracy compared to a single decision tree.\\n\\n6. K-means Clustering: This unsupervised learning algorithm is used for cluster analysis. It partitions a dataset into K clusters, where each data point belongs to the cluster with the nearest mean.\\n\\nThese are just a few examples, and there are many more algorithms available in the field of machine learning, each with its'"
      ]
     },
     "execution_count": 10,
     "metadata": {},
     "output_type": "execute_result"
    }
   ],
   "source": [
    "conversation.predict(input=\"Name few algorithms ?\")"
   ]
  },
  {
   "cell_type": "markdown",
   "metadata": {},
   "source": [
    "### you can see it's stacking the conversation in the prompt"
   ]
  },
  {
   "cell_type": "code",
   "execution_count": 11,
   "metadata": {},
   "outputs": [
    {
     "name": "stdout",
     "output_type": "stream",
     "text": [
      "Human: Hi there! I am Zuu\n",
      "AI: Hello, Zuu! I'm an AI designed to have conversations with people. How can I assist you today?\n",
      "Human: Do you know machine learning?\n",
      "AI: Yes, I am familiar with machine learning. Machine learning is a subset of artificial intelligence that focuses on the development of algorithms and models that allow computers to learn and make predictions or decisions without being explicitly programmed. It involves the use of large amounts of data to train models and improve their performance over time. Machine learning is used in a wide range of applications, such as image and speech recognition, natural language processing, recommendation systems, and autonomous vehicles, to name just a few.\n",
      "Human: Name few algorithms ?\n",
      "AI: Sure! There are numerous machine learning algorithms, but I can mention a few popular ones:\n",
      "\n",
      "1. Linear Regression: This algorithm is used to model the relationship between a dependent variable and one or more independent variables by fitting a linear equation to observed data.\n",
      "\n",
      "2. Logistic Regression: It is a classification algorithm used when the dependent variable is categorical. It predicts the probability of an event occurring based on independent variables.\n",
      "\n",
      "3. Support Vector Machines (SVM): SVM is a binary classification algorithm that finds an optimal hyperplane in a high-dimensional feature space to separate different classes.\n",
      "\n",
      "4. Decision Trees: This algorithm uses a tree-like model to make decisions based on splitting the data into various branches, considering different features at each node. It is commonly used for both classification and regression tasks.\n",
      "\n",
      "5. Random Forest: Random Forest is an ensemble learning method that combines multiple decision trees to make predictions. It reduces overfitting and improves accuracy compared to a single decision tree.\n",
      "\n",
      "6. K-means Clustering: This unsupervised learning algorithm is used for cluster analysis. It partitions a dataset into K clusters, where each data point belongs to the cluster with the nearest mean.\n",
      "\n",
      "These are just a few examples, and there are many more algorithms available in the field of machine learning, each with its\n"
     ]
    }
   ],
   "source": [
    "# find whole memory buffer\n",
    "\n",
    "print(conversation.memory.buffer)"
   ]
  },
  {
   "cell_type": "markdown",
   "metadata": {},
   "source": [
    "## ConversationSummaryMemory"
   ]
  },
  {
   "cell_type": "code",
   "execution_count": 27,
   "metadata": {},
   "outputs": [
    {
     "name": "stderr",
     "output_type": "stream",
     "text": [
      "WARNING! engine is not default parameter.\n",
      "                    engine was transferred to model_kwargs.\n",
      "                    Please confirm that engine is what you intended.\n"
     ]
    }
   ],
   "source": [
    "llm_sum = ChatOpenAI(\n",
    "                    openai_api_key=os.environ[\"OPENAI_API_KEY\"],\n",
    "                    engine = os.environ[\"ENGINE\"],\n",
    "                    model='gpt-3.5-turbo',\n",
    "                    temperature=0.9, \n",
    "                    max_tokens = 256\n",
    "                    )\n",
    "summary_memory = ConversationSummaryMemory(llm=llm_sum) # llm=llm_sum used to get the summary of the conversation\n",
    "conversation = ConversationChain(\n",
    "                                llm=llm, \n",
    "                                verbose=True, \n",
    "                                memory=summary_memory\n",
    "                                )"
   ]
  },
  {
   "cell_type": "code",
   "execution_count": 28,
   "metadata": {},
   "outputs": [
    {
     "name": "stdout",
     "output_type": "stream",
     "text": [
      "\n",
      "\n",
      "\u001b[1m> Entering new ConversationChain chain...\u001b[0m\n",
      "Prompt after formatting:\n",
      "\u001b[32;1m\u001b[1;3mThe following is a friendly conversation between a human and an AI. The AI is talkative and provides lots of specific details from its context. If the AI does not know the answer to a question, it truthfully says it does not know.\n",
      "\n",
      "Current conversation:\n",
      "\n",
      "Human: Hi there! I am Zuu\n",
      "AI:\u001b[0m\n",
      "\n",
      "\u001b[1m> Finished chain.\u001b[0m\n"
     ]
    },
    {
     "data": {
      "text/plain": [
       "'Hello Zuu! Nice to meet you. How can I assist you today?'"
      ]
     },
     "execution_count": 28,
     "metadata": {},
     "output_type": "execute_result"
    }
   ],
   "source": [
    "conversation.predict(input=\"Hi there! I am Zuu\")"
   ]
  },
  {
   "cell_type": "code",
   "execution_count": 29,
   "metadata": {},
   "outputs": [
    {
     "name": "stdout",
     "output_type": "stream",
     "text": [
      "\n",
      "\n",
      "\u001b[1m> Entering new ConversationChain chain...\u001b[0m\n",
      "Prompt after formatting:\n",
      "\u001b[32;1m\u001b[1;3mThe following is a friendly conversation between a human and an AI. The AI is talkative and provides lots of specific details from its context. If the AI does not know the answer to a question, it truthfully says it does not know.\n",
      "\n",
      "Current conversation:\n",
      "The human introduces themselves as Zuu and the AI greets them. The AI asks Zuu how it can assist them.\n",
      "Human: do you know machine learning ?\n",
      "AI:\u001b[0m\n",
      "\n",
      "\u001b[1m> Finished chain.\u001b[0m\n"
     ]
    },
    {
     "data": {
      "text/plain": [
       "'Yes, I know about machine learning. Machine learning is a subfield of artificial intelligence that focuses on the development of algorithms and models that allow computers to automatically learn and improve from experience without being explicitly programmed. It involves teaching computers to learn patterns and make predictions or decisions based on data. Machine learning is used in various applications such as image recognition, natural language processing, and recommendation systems. Is there anything specific you would like to know about machine learning, Zuu?'"
      ]
     },
     "execution_count": 29,
     "metadata": {},
     "output_type": "execute_result"
    }
   ],
   "source": [
    "conversation.predict(input=\"do you know machine learning ?\")"
   ]
  },
  {
   "cell_type": "markdown",
   "metadata": {},
   "source": [
    "### the highlighted part represent the summary of the conversation\n",
    "![Alt text](assets/image.png)"
   ]
  },
  {
   "cell_type": "code",
   "execution_count": 30,
   "metadata": {},
   "outputs": [
    {
     "name": "stdout",
     "output_type": "stream",
     "text": [
      "\n",
      "\n",
      "\u001b[1m> Entering new ConversationChain chain...\u001b[0m\n",
      "Prompt after formatting:\n",
      "\u001b[32;1m\u001b[1;3mThe following is a friendly conversation between a human and an AI. The AI is talkative and provides lots of specific details from its context. If the AI does not know the answer to a question, it truthfully says it does not know.\n",
      "\n",
      "Current conversation:\n",
      "The human introduces themselves as Zuu and the AI greets them. The AI asks Zuu how it can assist them and Zuu asks if the AI knows about machine learning. The AI responds that it is familiar with machine learning, explaining that it is a subfield of artificial intelligence that focuses on algorithms and models that allow computers to learn and improve from experience. It is used in various applications such as image recognition and recommendation systems. The AI asks Zuu if there is anything specific they would like to know about machine learning.\n",
      "Human: Name few algorithms ?\n",
      "AI:\u001b[0m\n",
      "\n",
      "\u001b[1m> Finished chain.\u001b[0m\n"
     ]
    },
    {
     "data": {
      "text/plain": [
       "\"There are numerous algorithms used in machine learning, each designed to solve different types of problems. Some popular examples include:\\n\\n1. Linear regression: This algorithm is used for predicting continuous output variables, given a set of input variables that have a linear relationship with the output.\\n\\n2. Logistic regression: Similar to linear regression, but used for predicting binary or categorical output variables.\\n\\n3. Decision trees: These algorithms create a tree-like model of decisions and their possible consequences. They are commonly used in classification tasks.\\n\\n4. Random forests: This algorithm uses an ensemble of decision trees to make predictions. It combines multiple decision trees to reduce overfitting and increase accuracy.\\n\\n5. Support Vector Machines (SVM): SVM is a powerful algorithm used for both classification and regression tasks. It separates different classes by finding the best hyperplane that maximizes the margin between them.\\n\\n6. Naive Bayes: This algorithm is based on Bayes' theorem and assumes that the features are independent of each other. It is commonly used for text classification tasks.\\n\\n7. K-nearest neighbors (KNN): KNN classifies new data points based on the majority of the K closest training samples. It is a simple and versatile algorithm used for both regression and classification tasks.\\n\\nThese are just a few examples\""
      ]
     },
     "execution_count": 30,
     "metadata": {},
     "output_type": "execute_result"
    }
   ],
   "source": [
    "conversation.predict(input=\"Name few algorithms ?\")"
   ]
  },
  {
   "cell_type": "markdown",
   "metadata": {},
   "source": [
    "## ConversationBufferWindowMemory"
   ]
  },
  {
   "cell_type": "code",
   "execution_count": 32,
   "metadata": {},
   "outputs": [],
   "source": [
    "window_memory = ConversationBufferWindowMemory(k=2)\n",
    "conversation = ConversationChain(\n",
    "                                llm=llm, \n",
    "                                verbose=True, \n",
    "                                memory=window_memory\n",
    "                                )"
   ]
  },
  {
   "cell_type": "code",
   "execution_count": 33,
   "metadata": {},
   "outputs": [
    {
     "name": "stdout",
     "output_type": "stream",
     "text": [
      "\n",
      "\n",
      "\u001b[1m> Entering new ConversationChain chain...\u001b[0m\n",
      "Prompt after formatting:\n",
      "\u001b[32;1m\u001b[1;3mThe following is a friendly conversation between a human and an AI. The AI is talkative and provides lots of specific details from its context. If the AI does not know the answer to a question, it truthfully says it does not know.\n",
      "\n",
      "Current conversation:\n",
      "\n",
      "Human: Hi there! I am Zuu\n",
      "AI:\u001b[0m\n",
      "\n",
      "\u001b[1m> Finished chain.\u001b[0m\n"
     ]
    },
    {
     "data": {
      "text/plain": [
       "'Hello Zuu! How can I assist you today?'"
      ]
     },
     "execution_count": 33,
     "metadata": {},
     "output_type": "execute_result"
    }
   ],
   "source": [
    "conversation.predict(input=\"Hi there! I am Zuu\")    "
   ]
  },
  {
   "cell_type": "code",
   "execution_count": 34,
   "metadata": {},
   "outputs": [
    {
     "name": "stdout",
     "output_type": "stream",
     "text": [
      "\n",
      "\n",
      "\u001b[1m> Entering new ConversationChain chain...\u001b[0m\n",
      "Prompt after formatting:\n",
      "\u001b[32;1m\u001b[1;3mThe following is a friendly conversation between a human and an AI. The AI is talkative and provides lots of specific details from its context. If the AI does not know the answer to a question, it truthfully says it does not know.\n",
      "\n",
      "Current conversation:\n",
      "Human: Hi there! I am Zuu\n",
      "AI: Hello Zuu! How can I assist you today?\n",
      "Human: Do you know machine learning?\n",
      "AI:\u001b[0m\n",
      "\n",
      "\u001b[1m> Finished chain.\u001b[0m\n"
     ]
    },
    {
     "data": {
      "text/plain": [
       "'Yes, I am familiar with machine learning. Machine learning is a subfield of artificial intelligence that focuses on developing algorithms and statistical models that allow computers to learn and make predictions or decisions without being explicitly programmed. It is a highly dynamic and rapidly evolving field with various techniques and approaches, such as supervised learning, unsupervised learning, and reinforcement learning. Machine learning has applications in many domains, including natural language processing, computer vision, and data analysis. Is there anything specific you would like to know about machine learning?'"
      ]
     },
     "execution_count": 34,
     "metadata": {},
     "output_type": "execute_result"
    }
   ],
   "source": [
    "conversation.predict(input=\"Do you know machine learning?\")"
   ]
  },
  {
   "cell_type": "code",
   "execution_count": 35,
   "metadata": {},
   "outputs": [
    {
     "name": "stdout",
     "output_type": "stream",
     "text": [
      "\n",
      "\n",
      "\u001b[1m> Entering new ConversationChain chain...\u001b[0m\n",
      "Prompt after formatting:\n",
      "\u001b[32;1m\u001b[1;3mThe following is a friendly conversation between a human and an AI. The AI is talkative and provides lots of specific details from its context. If the AI does not know the answer to a question, it truthfully says it does not know.\n",
      "\n",
      "Current conversation:\n",
      "Human: Hi there! I am Zuu\n",
      "AI: Hello Zuu! How can I assist you today?\n",
      "Human: Do you know machine learning?\n",
      "AI: Yes, I am familiar with machine learning. Machine learning is a subfield of artificial intelligence that focuses on developing algorithms and statistical models that allow computers to learn and make predictions or decisions without being explicitly programmed. It is a highly dynamic and rapidly evolving field with various techniques and approaches, such as supervised learning, unsupervised learning, and reinforcement learning. Machine learning has applications in many domains, including natural language processing, computer vision, and data analysis. Is there anything specific you would like to know about machine learning?\n",
      "Human: Name few algorithms ?\n",
      "AI:\u001b[0m\n",
      "\n",
      "\u001b[1m> Finished chain.\u001b[0m\n"
     ]
    },
    {
     "data": {
      "text/plain": [
       "\"Certainly! There are many machine learning algorithms, but here are a few popular ones:\\n\\n1. Linear Regression: This algorithm is used for predicting a continuous output variable based on one or more input variables. It fits a linear equation to the data and finds the best fit line.\\n\\n2. Logistic Regression: Unlike linear regression, this algorithm is used for classification problems. It predicts the probability of an instance belonging to a particular class by fitting a logistic function to the data.\\n\\n3. Support Vector Machines (SVM): SVM is a powerful algorithm for both classification and regression tasks. It finds the optimal hyperplane that separates the data points of different classes with the largest margin.\\n\\n4. Decision Trees: These are tree-like models where each internal node represents a feature, each branch represents a decision rule, and each leaf node represents the outcome. They are widely used for classification and regression problems.\\n\\n5. Random Forest: This algorithm uses an ensemble of decision trees to make predictions. It combines multiple decision trees and aggregates their outputs to provide more accurate results.\\n\\n6. Naive Bayes: Naive Bayes is a probabilistic classifier based on Bayes' theorem with an assumption of independence between features. It is often used for text classification tasks.\\n\\n7. K-Nearest Neighbors (\""
      ]
     },
     "execution_count": 35,
     "metadata": {},
     "output_type": "execute_result"
    }
   ],
   "source": [
    "conversation.predict(input=\"Name few algorithms ?\")"
   ]
  },
  {
   "cell_type": "code",
   "execution_count": 36,
   "metadata": {},
   "outputs": [
    {
     "name": "stdout",
     "output_type": "stream",
     "text": [
      "\n",
      "\n",
      "\u001b[1m> Entering new ConversationChain chain...\u001b[0m\n",
      "Prompt after formatting:\n",
      "\u001b[32;1m\u001b[1;3mThe following is a friendly conversation between a human and an AI. The AI is talkative and provides lots of specific details from its context. If the AI does not know the answer to a question, it truthfully says it does not know.\n",
      "\n",
      "Current conversation:\n",
      "Human: Do you know machine learning?\n",
      "AI: Yes, I am familiar with machine learning. Machine learning is a subfield of artificial intelligence that focuses on developing algorithms and statistical models that allow computers to learn and make predictions or decisions without being explicitly programmed. It is a highly dynamic and rapidly evolving field with various techniques and approaches, such as supervised learning, unsupervised learning, and reinforcement learning. Machine learning has applications in many domains, including natural language processing, computer vision, and data analysis. Is there anything specific you would like to know about machine learning?\n",
      "Human: Name few algorithms ?\n",
      "AI: Certainly! There are many machine learning algorithms, but here are a few popular ones:\n",
      "\n",
      "1. Linear Regression: This algorithm is used for predicting a continuous output variable based on one or more input variables. It fits a linear equation to the data and finds the best fit line.\n",
      "\n",
      "2. Logistic Regression: Unlike linear regression, this algorithm is used for classification problems. It predicts the probability of an instance belonging to a particular class by fitting a logistic function to the data.\n",
      "\n",
      "3. Support Vector Machines (SVM): SVM is a powerful algorithm for both classification and regression tasks. It finds the optimal hyperplane that separates the data points of different classes with the largest margin.\n",
      "\n",
      "4. Decision Trees: These are tree-like models where each internal node represents a feature, each branch represents a decision rule, and each leaf node represents the outcome. They are widely used for classification and regression problems.\n",
      "\n",
      "5. Random Forest: This algorithm uses an ensemble of decision trees to make predictions. It combines multiple decision trees and aggregates their outputs to provide more accurate results.\n",
      "\n",
      "6. Naive Bayes: Naive Bayes is a probabilistic classifier based on Bayes' theorem with an assumption of independence between features. It is often used for text classification tasks.\n",
      "\n",
      "7. K-Nearest Neighbors (\n",
      "Human: Thanks\n",
      "AI:\u001b[0m\n",
      "\n",
      "\u001b[1m> Finished chain.\u001b[0m\n"
     ]
    },
    {
     "data": {
      "text/plain": [
       "\"You're welcome! If you have any more questions or if there's anything else I can help you with, feel free to ask!\""
      ]
     },
     "execution_count": 36,
     "metadata": {},
     "output_type": "execute_result"
    }
   ],
   "source": [
    "conversation.predict(input=\"Thanks\")"
   ]
  },
  {
   "cell_type": "markdown",
   "metadata": {},
   "source": [
    "### now you can see the conversation is buffered with window as it removed my first query"
   ]
  },
  {
   "cell_type": "markdown",
   "metadata": {},
   "source": [
    "## ConversationSummaryBufferMemory"
   ]
  },
  {
   "cell_type": "code",
   "execution_count": 37,
   "metadata": {},
   "outputs": [],
   "source": [
    "memory = ConversationSummaryBufferMemory(\n",
    "                                        llm=llm_sum, \n",
    "                                        max_token_limit=40 # instead of setting window of interaction, we can set the max token limit\n",
    "                                        ) \n",
    "\n",
    "conversation = ConversationChain(\n",
    "                                llm=llm, \n",
    "                                verbose=True, \n",
    "                                memory=memory\n",
    "                                )"
   ]
  },
  {
   "cell_type": "code",
   "execution_count": 38,
   "metadata": {},
   "outputs": [
    {
     "name": "stdout",
     "output_type": "stream",
     "text": [
      "\n",
      "\n",
      "\u001b[1m> Entering new ConversationChain chain...\u001b[0m\n",
      "Prompt after formatting:\n",
      "\u001b[32;1m\u001b[1;3mThe following is a friendly conversation between a human and an AI. The AI is talkative and provides lots of specific details from its context. If the AI does not know the answer to a question, it truthfully says it does not know.\n",
      "\n",
      "Current conversation:\n",
      "\n",
      "Human: Hi there! I am Zuu\n",
      "AI:\u001b[0m\n",
      "\n",
      "\u001b[1m> Finished chain.\u001b[0m\n"
     ]
    },
    {
     "data": {
      "text/plain": [
       "\"Hello Zuu! It's a pleasure to meet you. How can I assist you today?\""
      ]
     },
     "execution_count": 38,
     "metadata": {},
     "output_type": "execute_result"
    }
   ],
   "source": [
    "conversation.predict(input=\"Hi there! I am Zuu\")"
   ]
  },
  {
   "cell_type": "code",
   "execution_count": 39,
   "metadata": {},
   "outputs": [
    {
     "name": "stdout",
     "output_type": "stream",
     "text": [
      "\n",
      "\n",
      "\u001b[1m> Entering new ConversationChain chain...\u001b[0m\n",
      "Prompt after formatting:\n",
      "\u001b[32;1m\u001b[1;3mThe following is a friendly conversation between a human and an AI. The AI is talkative and provides lots of specific details from its context. If the AI does not know the answer to a question, it truthfully says it does not know.\n",
      "\n",
      "Current conversation:\n",
      "Human: Hi there! I am Zuu\n",
      "AI: Hello Zuu! It's a pleasure to meet you. How can I assist you today?\n",
      "Human: Do you know machine learning?\n",
      "AI:\u001b[0m\n",
      "\n",
      "\u001b[1m> Finished chain.\u001b[0m\n"
     ]
    },
    {
     "data": {
      "text/plain": [
       "'Yes, I do! Machine learning is a branch of artificial intelligence that focuses on the development of algorithms and models that allow computers to learn and make predictions or decisions without being explicitly programmed. It involves training a computer with a large amount of data and allowing it to learn patterns and relationships within the data to make accurate predictions or decisions in the future. Machine learning is used in various fields such as image recognition, natural language processing, recommendation systems, and autonomous vehicles, among others.'"
      ]
     },
     "execution_count": 39,
     "metadata": {},
     "output_type": "execute_result"
    }
   ],
   "source": [
    "conversation.predict(input=\"Do you know machine learning?\")"
   ]
  },
  {
   "cell_type": "code",
   "execution_count": 40,
   "metadata": {},
   "outputs": [
    {
     "name": "stdout",
     "output_type": "stream",
     "text": [
      "\n",
      "\n",
      "\u001b[1m> Entering new ConversationChain chain...\u001b[0m\n",
      "Prompt after formatting:\n",
      "\u001b[32;1m\u001b[1;3mThe following is a friendly conversation between a human and an AI. The AI is talkative and provides lots of specific details from its context. If the AI does not know the answer to a question, it truthfully says it does not know.\n",
      "\n",
      "Current conversation:\n",
      "System: The human introduces themselves as Zuu and the AI greets them. Zuu asks if the AI knows about machine learning. The AI responds by explaining that machine learning is a branch of artificial intelligence that involves training computers with data to allow them to learn and make predictions or decisions. Machine learning is used in various fields such as image recognition, natural language processing, recommendation systems, and autonomous vehicles.\n",
      "Human: Name few algorithms ?\n",
      "AI:\u001b[0m\n",
      "\n",
      "\u001b[1m> Finished chain.\u001b[0m\n"
     ]
    },
    {
     "data": {
      "text/plain": [
       "\"There are several popular machine learning algorithms that are commonly used in various applications. Here are a few examples:\\n\\n1. Linear Regression: This algorithm is used for predicting a continuous outcome by fitting a linear relationship between the input features and the target variable.\\n\\n2. Logistic Regression: It is a statistical algorithm used for binary classification problems. It predicts the probability of an instance belonging to a particular class.\\n\\n3. Decision Trees: This algorithm creates a flowchart-like structure to make decisions based on the input features. It can handle both categorical and numerical data.\\n\\n4. Random Forest: It is an ensemble learning algorithm that combines multiple decision trees to make predictions. It is known for its better accuracy and robustness.\\n\\n5. Support Vector Machines (SVM): SVM is a popular algorithm for both classification and regression tasks. It finds an optimal hyperplane to separate different classes in the input data.\\n\\n6. K-means Clustering: It is an unsupervised learning algorithm that aims to partition the data into a predefined number of clusters. It is commonly used for clustering analysis.\\n\\n7. Naive Bayes: This algorithm is based on Bayes' theorem and assumes that the input features are conditionally independent. It is often used in text classification problems.\\n\\n8. Neural Networks: Neural networks\""
      ]
     },
     "execution_count": 40,
     "metadata": {},
     "output_type": "execute_result"
    }
   ],
   "source": [
    "conversation.predict(input=\"Name few algorithms ?\")"
   ]
  },
  {
   "cell_type": "code",
   "execution_count": 41,
   "metadata": {},
   "outputs": [
    {
     "name": "stdout",
     "output_type": "stream",
     "text": [
      "\n",
      "\n",
      "\u001b[1m> Entering new ConversationChain chain...\u001b[0m\n",
      "Prompt after formatting:\n",
      "\u001b[32;1m\u001b[1;3mThe following is a friendly conversation between a human and an AI. The AI is talkative and provides lots of specific details from its context. If the AI does not know the answer to a question, it truthfully says it does not know.\n",
      "\n",
      "Current conversation:\n",
      "System: The human introduces themselves as Zuu and the AI greets them. Zuu asks if the AI knows about machine learning. The AI responds by explaining that machine learning is a branch of artificial intelligence that involves training computers with data to allow them to learn and make predictions or decisions. Machine learning is used in various fields such as image recognition, natural language processing, recommendation systems, and autonomous vehicles. Zuu then asks the AI to name a few machine learning algorithms. The AI provides examples such as linear regression, logistic regression, decision trees, random forest, support vector machines, k-means clustering, naive Bayes, and neural networks.\n",
      "Human: Thanks\n",
      "AI:\u001b[0m\n",
      "\n",
      "\u001b[1m> Finished chain.\u001b[0m\n"
     ]
    },
    {
     "data": {
      "text/plain": [
       "\"You're welcome! Is there anything else you would like to know about machine learning or any other topic? I'm here to help!\""
      ]
     },
     "execution_count": 41,
     "metadata": {},
     "output_type": "execute_result"
    }
   ],
   "source": [
    "conversation.predict(input=\"Thanks\")"
   ]
  },
  {
   "cell_type": "markdown",
   "metadata": {},
   "source": [
    "## Conversation Knowledge Graph Memory"
   ]
  },
  {
   "cell_type": "code",
   "execution_count": 44,
   "metadata": {},
   "outputs": [],
   "source": [
    "template = \"\"\"The following is a friendly conversation between a human and an AI. The AI is talkative and provides lots of specific details from its context. \n",
    "If the AI does not know the answer to a question, it truthfully says it does not know. The AI ONLY uses information contained in the \"Relevant Information\" section and does not hallucinate.\n",
    "\n",
    "Relevant Information:\n",
    "\n",
    "{history}\n",
    "\n",
    "Conversation:\n",
    "Human: {input}\n",
    "AI:\"\"\"\n",
    "prompt = PromptTemplate(\n",
    "    input_variables=[\"history\", \"input\"], template=template\n",
    ")\n",
    "\n",
    "conversation_with_kg = ConversationChain(\n",
    "                                        llm=llm, \n",
    "                                        verbose=True, \n",
    "                                        prompt=prompt,\n",
    "                                        memory=ConversationKGMemory(llm=llm)\n",
    "                                    )"
   ]
  },
  {
   "cell_type": "code",
   "execution_count": 45,
   "metadata": {},
   "outputs": [
    {
     "name": "stdout",
     "output_type": "stream",
     "text": [
      "\n",
      "\n",
      "\u001b[1m> Entering new ConversationChain chain...\u001b[0m\n",
      "Prompt after formatting:\n",
      "\u001b[32;1m\u001b[1;3mThe following is a friendly conversation between a human and an AI. The AI is talkative and provides lots of specific details from its context. \n",
      "If the AI does not know the answer to a question, it truthfully says it does not know. The AI ONLY uses information contained in the \"Relevant Information\" section and does not hallucinate.\n",
      "\n",
      "Relevant Information:\n",
      "\n",
      "\n",
      "\n",
      "Conversation:\n",
      "Human: Hi there! I am Zuu\n",
      "AI:\u001b[0m\n",
      "\n",
      "\u001b[1m> Finished chain.\u001b[0m\n"
     ]
    },
    {
     "data": {
      "text/plain": [
       "\"Hello Zuu! It's nice to meet you. How can I assist you today?\""
      ]
     },
     "execution_count": 45,
     "metadata": {},
     "output_type": "execute_result"
    }
   ],
   "source": [
    "conversation_with_kg.predict(input=\"Hi there! I am Zuu\")"
   ]
  },
  {
   "cell_type": "code",
   "execution_count": 46,
   "metadata": {},
   "outputs": [
    {
     "name": "stdout",
     "output_type": "stream",
     "text": [
      "\n",
      "\n",
      "\u001b[1m> Entering new ConversationChain chain...\u001b[0m\n",
      "Prompt after formatting:\n",
      "\u001b[32;1m\u001b[1;3mThe following is a friendly conversation between a human and an AI. The AI is talkative and provides lots of specific details from its context. \n",
      "If the AI does not know the answer to a question, it truthfully says it does not know. The AI ONLY uses information contained in the \"Relevant Information\" section and does not hallucinate.\n",
      "\n",
      "Relevant Information:\n",
      "\n",
      "\n",
      "\n",
      "Conversation:\n",
      "Human: Do you know machine learning?\n",
      "AI:\u001b[0m\n",
      "\n",
      "\u001b[1m> Finished chain.\u001b[0m\n"
     ]
    },
    {
     "data": {
      "text/plain": [
       "'Yes, I am familiar with machine learning. It is a branch of artificial intelligence that focuses on the development of algorithms and models that allow computers to learn from and make predictions or decisions based on data. It involves techniques such as regression, classification, clustering, and deep learning. Machine learning has applications in various fields including image and speech recognition, natural language processing, and recommendation systems.'"
      ]
     },
     "execution_count": 46,
     "metadata": {},
     "output_type": "execute_result"
    }
   ],
   "source": [
    "conversation_with_kg.predict(input=\"Do you know machine learning?\")"
   ]
  },
  {
   "cell_type": "code",
   "execution_count": 47,
   "metadata": {},
   "outputs": [
    {
     "name": "stdout",
     "output_type": "stream",
     "text": [
      "\n",
      "\n",
      "\u001b[1m> Entering new ConversationChain chain...\u001b[0m\n",
      "Prompt after formatting:\n",
      "\u001b[32;1m\u001b[1;3mThe following is a friendly conversation between a human and an AI. The AI is talkative and provides lots of specific details from its context. \n",
      "If the AI does not know the answer to a question, it truthfully says it does not know. The AI ONLY uses information contained in the \"Relevant Information\" section and does not hallucinate.\n",
      "\n",
      "Relevant Information:\n",
      "\n",
      "\n",
      "\n",
      "Conversation:\n",
      "Human: Name few algorithms ?\n",
      "AI:\u001b[0m\n",
      "\n",
      "\u001b[1m> Finished chain.\u001b[0m\n"
     ]
    },
    {
     "data": {
      "text/plain": [
       "\"There are numerous algorithms used in various fields. Some commonly known algorithms include:\\n\\n1. Bubble Sort: It is a simple sorting algorithm that repeatedly compares adjacent elements and swaps them if they are in the wrong order.\\n\\n2. Binary Search: It is an efficient searching algorithm that finds the position of a target value within a sorted array by repeatedly dividing the search interval in half.\\n\\n3. Dijkstra's Algorithm: It is a popular algorithm used for finding the shortest path between nodes in a graph with non-negative edge weights.\\n\\n4. Random Forest: It is an ensemble learning method that combines multiple decision trees to make predictions.\\n\\n5. K-means Clustering: It is an algorithm used for partitioning a set of data points into K clusters based on their similarity.\\n\\n6. PageRank: It is an algorithm used by Google to rank web pages in their search engine results.\\n\\n7. Support Vector Machines (SVM): It is a supervised learning algorithm used for classification and regression tasks.\\n\\n8. Neural Networks: They are a set of algorithms inspired by the functioning of the human brain and are used for various machine learning tasks like image recognition and natural language processing.\\n\\nThese are just a few examples, and there are many more algorithms depending on the specific problem domain.\""
      ]
     },
     "execution_count": 47,
     "metadata": {},
     "output_type": "execute_result"
    }
   ],
   "source": [
    "conversation_with_kg.predict(input=\"Name few algorithms ?\")"
   ]
  },
  {
   "cell_type": "code",
   "execution_count": 48,
   "metadata": {},
   "outputs": [
    {
     "name": "stdout",
     "output_type": "stream",
     "text": [
      "<langchain.graphs.networkx_graph.NetworkxEntityGraph object at 0x15e7e3820>\n",
      "[('Zuu', 'Hi there', 'is'), ('Bubble Sort', 'sorting algorithm', 'is a'), ('Binary Search', 'searching algorithm', 'is a'), (\"Dijkstra's Algorithm\", 'algorithm', 'is a'), ('Random Forest', 'ensemble learning method', 'is an'), ('K-means Clustering', 'algorithm', 'is an'), ('PageRank', 'algorithm', 'is an'), ('Support Vector Machines (SVM)', 'learning algorithm', 'is a'), ('Neural Networks', 'set of algorithms', 'are a')]\n"
     ]
    }
   ],
   "source": [
    "print(conversation_with_kg.memory.kg)\n",
    "print(conversation_with_kg.memory.kg.get_triples())"
   ]
  }
 ],
 "metadata": {
  "kernelspec": {
   "display_name": "Python 3",
   "language": "python",
   "name": "python3"
  },
  "language_info": {
   "codemirror_mode": {
    "name": "ipython",
    "version": 3
   },
   "file_extension": ".py",
   "mimetype": "text/x-python",
   "name": "python",
   "nbconvert_exporter": "python",
   "pygments_lexer": "ipython3",
   "version": "3.10.13"
  },
  "orig_nbformat": 4
 },
 "nbformat": 4,
 "nbformat_minor": 2
}
