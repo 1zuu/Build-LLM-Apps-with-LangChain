{
 "cells": [
  {
   "cell_type": "code",
   "execution_count": 13,
   "metadata": {},
   "outputs": [],
   "source": [
    "import yaml, os, openai, textwrap\n",
    "from langchain.chat_models import ChatOpenAI\n",
    "from langchain.docstore.document import Document\n",
    "from langchain.chains.mapreduce import MapReduceChain\n",
    "from langchain import OpenAI, PromptTemplate, LLMChain\n",
    "from langchain.text_splitter import CharacterTextSplitter\n",
    "from langchain.chains.summarize import load_summarize_chain"
   ]
  },
  {
   "cell_type": "code",
   "execution_count": 14,
   "metadata": {},
   "outputs": [],
   "source": [
    "with open('cadentials.yaml') as f:\n",
    "    credentials = yaml.load(f, Loader=yaml.FullLoader)\n",
    "\n",
    "os.environ['OPENAI_API_KEY'] = credentials['OPENAI_API_KEY']\n",
    "os.environ['HUGGINGFACEHUB_API_TOKEN'] = credentials['HUGGINGFACEHUB_API_TOKEN']\n",
    "os.environ['ENGINE'] = credentials['ENGINE']\n",
    "\n",
    "openai.api_key = credentials['OPENAI_API_KEY']\n",
    "openai.api_base = credentials['OPENAI_API_BASE']\n",
    "openai.api_type = credentials['OPENAI_API_TYPE']\n",
    "openai.api_version = credentials['OPENAI_API_VERSION']\n",
    "openai.engine = credentials['ENGINE']"
   ]
  },
  {
   "cell_type": "code",
   "execution_count": 15,
   "metadata": {},
   "outputs": [
    {
     "name": "stderr",
     "output_type": "stream",
     "text": [
      "WARNING! engine is not default parameter.\n",
      "                    engine was transferred to model_kwargs.\n",
      "                    Please confirm that engine is what you intended.\n"
     ]
    }
   ],
   "source": [
    "llm = ChatOpenAI(\n",
    "                openai_api_key=os.environ[\"OPENAI_API_KEY\"],\n",
    "                engine = os.environ[\"ENGINE\"],\n",
    "                model='gpt-3.5-turbo',\n",
    "                temperature=0.9, \n",
    "                max_tokens = 256\n",
    "                )"
   ]
  },
  {
   "cell_type": "code",
   "execution_count": 21,
   "metadata": {},
   "outputs": [],
   "source": [
    "text_splitter = CharacterTextSplitter()\n",
    "\n",
    "with open('data/7-summarization.txt') as f:\n",
    "    ml_text = f.read()\n",
    "texts = text_splitter.split_text(ml_text)"
   ]
  },
  {
   "cell_type": "code",
   "execution_count": 10,
   "metadata": {},
   "outputs": [
    {
     "data": {
      "text/plain": [
       "4"
      ]
     },
     "execution_count": 10,
     "metadata": {},
     "output_type": "execute_result"
    }
   ],
   "source": [
    "len(texts)"
   ]
  },
  {
   "cell_type": "code",
   "execution_count": 11,
   "metadata": {},
   "outputs": [
    {
     "data": {
      "text/plain": [
       "[Document(page_content='Machine learning is a rapidly evolving field within the broader domain of artificial intelligence (AI) that has garnered significant attention and acclaim in recent years. It encompasses a diverse array of techniques and algorithms designed to enable computers to learn from data and make predictions or decisions without being explicitly programmed. This transformative technology has applications across various industries and is at the heart of many cutting-edge innovations, promising to reshape the way we interact with technology and solve complex problems.\\n\\nAt its core, machine learning relies on the idea that computers can analyze and interpret large datasets to discover patterns, relationships, and insights that might be too complex for humans to discern through traditional programming. This paradigm shift has empowered machines to excel in tasks that were once considered exclusively human, such as image and speech recognition, natural language processing, recommendation systems, autonomous vehicles, and even medical diagnostics.\\n\\nThere are several fundamental types of machine learning, each with its unique characteristics:\\n\\n1. **Supervised Learning:** In this paradigm, the algorithm is trained on a labeled dataset, meaning it is provided with input data and the corresponding correct output. The model learns to map inputs to outputs and can then make predictions on new, unseen data. Common algorithms in supervised learning include linear regression, decision trees, and neural networks.\\n\\n2. **Unsupervised Learning:** Here, the algorithm explores patterns within the data without the guidance of labeled outputs. It aims to find hidden structures, group similar data points, or reduce the dimensionality of the data. Clustering and dimensionality reduction techniques, such as k-means clustering and principal component analysis (PCA), fall under this category.\\n\\n3. **Reinforcement Learning:** This type of machine learning is inspired by behavioral psychology. Agents learn to make sequential decisions by interacting with an environment. They receive rewards or penalties based on their actions, enabling them to optimize their decision-making policies over time. Reinforcement learning is behind the success of game-playing AI agents, like AlphaGo and AlphaZero, as well as robotics and autonomous systems.\\n\\nMachine learning models can range from simple linear regression models to complex deep neural networks with numerous layers and millions of parameters. The choice of model depends on the nature of the data and the specific problem at hand. Deep learning, a subfield of machine learning, has garnered immense attention due to its ability to handle vast amounts of data and perform exceptionally well in tasks like image recognition, speech synthesis, and natural language understanding.\\n\\nOne of the critical challenges in machine learning is ensuring models generalize well to unseen data. Overfitting, where a model performs exceptionally well on the training data but poorly on new data, is a common pitfall. Techniques like cross-validation, regularization, and early stopping are used to mitigate this issue.\\n\\nThe success of machine learning largely depends on data quality and quantity. High-quality, diverse, and representative datasets are crucial for training robust models. Moreover, ethical considerations, such as bias in data and algorithmic fairness, are paramount in ensuring that machine learning systems do not perpetuate discrimination or reinforce societal inequalities.'),\n",
       " Document(page_content='The field of machine learning continues to advance at a breathtaking pace, driven by ongoing research, increased computational power, and the availability of vast amounts of data. As we look to the future, machine learning promises to revolutionize industries, enhance decision-making processes, and unlock new frontiers in AI, making our lives more efficient, convenient, and enriched. However, it also raises important questions about ethics, privacy, and the responsible development and deployment of AI systems, which society must address to harness the full potential of this transformative technology.\\n\\nDeep learning is a subfield of machine learning that has gained immense popularity and has been a driving force behind many of the recent breakthroughs in artificial intelligence. It is characterized by the use of neural networks with multiple layers, often referred to as deep neural networks, to model and solve complex tasks. Deep learning has found applications in a wide range of domains, from computer vision and natural language processing to robotics and healthcare, and it has played a pivotal role in advancing the field of AI.\\n\\nKey characteristics and concepts related to deep learning include:\\n\\n1. **Neural Networks:** At the heart of deep learning are artificial neural networks, which are inspired by the structure and function of the human brain. These networks consist of layers of interconnected nodes (neurons), each performing simple mathematical operations. Layers are typically divided into an input layer, one or more hidden layers, and an output layer. The hidden layers, when stacked, create the \"deep\" architecture that gives deep learning its name.\\n\\n2. **Deep Architectures:** Deep learning models have many layers, allowing them to capture hierarchical features and representations from the data. This depth enables them to learn complex patterns and relationships in the data, making them well-suited for tasks with high-dimensional input, such as image and speech recognition.\\n\\n3. **Convolutional Neural Networks (CNNs):** CNNs are a specific type of deep neural network designed for processing grid-like data, such as images and video. They use convolutional layers to automatically learn and extract features from input data, making them highly effective in tasks like object detection and image classification.\\n\\n4. **Recurrent Neural Networks (RNNs):** RNNs are designed for sequences of data, like time series or natural language text. They have feedback connections that allow information to flow from one step in the sequence to the next. This makes RNNs suitable for tasks such as language modeling, speech recognition, and machine translation.\\n\\n5. **Long Short-Term Memory (LSTM) and Gated Recurrent Unit (GRU):** These are specialized RNN architectures that address the vanishing gradient problem, allowing for more effective training of deep networks on long sequences of data.\\n\\n6. **Transfer Learning:** Deep learning models often require large amounts of data and computational resources for training. Transfer learning allows pre-trained models to be fine-tuned on new, smaller datasets, leveraging knowledge learned from larger, related tasks. This has been particularly successful in computer vision and natural language processing.\\n\\n7. **Generative Models:** Deep learning has produced impressive generative models, such as Generative Adversarial Networks (GANs) and Variational Autoencoders (VAEs), which can generate realistic images, text, and other data. GANs, for instance, have been used for art generation, image-to-image translation, and data augmentation.\\n\\n8. **Ethical and Societal Considerations:** As with all AI technologies, deep learning raises important ethical questions, including issues related to bias in data, transparency, and algorithmic fairness. The responsible development and deployment of deep learning models are critical to ensuring their positive impact on society.'),\n",
       " Document(page_content='Deep learning has seen rapid progress due to advancements in hardware (particularly Graphics Processing Units or GPUs) and the availability of large datasets. Researchers continue to push the boundaries of what deep learning can achieve, and its applications are poised to continue expanding into various domains, from autonomous vehicles and healthcare to finance and beyond. However, it also presents challenges related to interpretability, robustness, and the need for responsible AI practices.\\n\\n\"Large Language Models\" (LLMs) represent a significant breakthrough in the field of natural language processing (NLP) and artificial intelligence. These models are characterized by their immense size, encompassing millions or even billions of parameters, and they have gained widespread attention and application in various domains. LLMs are typically trained using deep learning techniques and have the capability to understand, generate, and manipulate human language at an unprecedented level of sophistication.\\n\\nKey aspects and concepts related to Large Language Models include:\\n\\n1. **Transformer Architecture:** LLMs are built on the transformer architecture, which was introduced in the paper \"Attention Is All You Need\" by Vaswani et al. in 2017. The transformer architecture relies on self-attention mechanisms that enable the model to weigh the importance of different words or tokens in a sentence when processing information. This architecture has proven to be highly effective in capturing complex language patterns.\\n\\n2. **Pre-training and Fine-tuning:** LLMs are typically pre-trained on massive datasets containing text from the internet. During pre-training, the model learns to predict the next word in a sentence, which helps it acquire a deep understanding of language. After pre-training, the model can be fine-tuned on specific tasks, such as text classification, translation, question answering, and more. Fine-tuning makes LLMs versatile and adaptable to various NLP applications.\\n\\n3. **Scale:** What sets LLMs apart from earlier NLP models is their immense scale. Models like GPT-3 (Generative Pre-trained Transformer 3) by OpenAI have 175 billion parameters, making them some of the largest artificial neural networks ever created. This massive scale allows LLMs to generate highly coherent and contextually relevant text across a wide range of topics.\\n\\n4. **Text Generation:** LLMs are known for their text generation capabilities. They can generate human-like text in response to a given prompt, making them useful for chatbots, content generation, and creative writing applications. However, this also raises concerns about the potential misuse of AI-generated content.\\n\\n5. **Language Understanding:** LLMs excel in understanding and processing natural language text. They can answer questions, summarize text, perform sentiment analysis, and even translate between languages with remarkable accuracy. Their ability to contextualize information makes them valuable for a wide array of NLP tasks.\\n\\n6. **Ethical Considerations:** The use of LLMs has raised ethical concerns related to misinformation, bias in generated content, and the potential for malicious use. Efforts are underway to develop guidelines and practices to ensure responsible AI development and deployment.\\n\\n7. **Applications:** Large Language Models have been applied in a wide range of domains, including customer support chatbots, virtual assistants, content generation for news and creative writing, healthcare for medical text analysis, legal document review, and more. They are also used for research in linguistics and as tools for improving language understanding in various industries.\\n\\n8. **Continual Advancements:** The field of Large Language Models is continually evolving. Researchers are exploring ways to make these models more efficient, reduce biases, improve interpretability, and enhance their ability to perform more complex reasoning tasks.'),\n",
       " Document(page_content='While Large Language Models have demonstrated remarkable capabilities, they also come with challenges related to their computational requirements, data biases, and ethical considerations. Striking the right balance between harnessing their potential and addressing these challenges is a key focus in the ongoing development of LLMs.')]"
      ]
     },
     "execution_count": 11,
     "metadata": {},
     "output_type": "execute_result"
    }
   ],
   "source": [
    "docs = [Document(page_content=t) for t in texts]\n",
    "docs"
   ]
  },
  {
   "cell_type": "markdown",
   "metadata": {},
   "source": [
    "##  3 types of CombineDocuments Chains"
   ]
  },
  {
   "cell_type": "markdown",
   "metadata": {},
   "source": [
    "### 1. Map Reduce [run individually and then combine]\n",
    "##### this method involves **an initial prompt on each chunk of data**\n",
    "        - for summarization tasks, this could be a summary of that chunk\n",
    "        - for question-answering tasks, it could be an answer based solely on that chunk\n",
    "##### **Then a different prompt is run to combine all the initial outputs.** This is implemented in the LangChain as the MapReduceDocumentsChain.\n",
    "\n",
    "**Pros:** Can scale to larger documents (and more documents) than StuffDocumentsChain. The calls to the LLM on individual documents are independent and can therefore be parallelized.\n",
    "\n",
    "**Cons:** Requires many more calls to the LLM than StuffDocumentsChain. Loses some information during the final combining call."
   ]
  },
  {
   "cell_type": "code",
   "execution_count": 17,
   "metadata": {},
   "outputs": [
    {
     "name": "stdout",
     "output_type": "stream",
     "text": [
      "Machine learning is a rapidly advancing field of artificial intelligence that enables computers to\n",
      "learn from data and make predictions or decisions. It has various types, including supervised,\n",
      "unsupervised, and reinforcement learning. Deep learning, a subfield of machine learning, has been\n",
      "instrumental in recent AI breakthroughs. However, the success of machine learning relies on high-\n",
      "quality datasets and ethical considerations. Deep learning has progressed rapidly, particularly in\n",
      "natural language processing, with the development of Large Language Models (LLMs) that can\n",
      "understand and generate human language. LLMs have impressive abilities but also present challenges\n",
      "such as computational requirements, data biases, and ethical concerns. The objective is to find the\n",
      "right balance between utilizing their potential and addressing these issues.\n"
     ]
    }
   ],
   "source": [
    "chain = load_summarize_chain(\n",
    "                            llm, \n",
    "                            chain_type=\"map_reduce\"\n",
    "                            )\n",
    "\n",
    "\n",
    "output_summary = chain.run(docs)\n",
    "wrapped_text = textwrap.fill(output_summary, width=100)\n",
    "print(wrapped_text)"
   ]
  },
  {
   "cell_type": "code",
   "execution_count": 18,
   "metadata": {},
   "outputs": [
    {
     "data": {
      "text/plain": [
       "'Write a concise summary of the following:\\n\\n\\n\"{text}\"\\n\\n\\nCONCISE SUMMARY:'"
      ]
     },
     "execution_count": 18,
     "metadata": {},
     "output_type": "execute_result"
    }
   ],
   "source": [
    "# for summarizing each part\n",
    "chain.llm_chain.prompt.template"
   ]
  },
  {
   "cell_type": "code",
   "execution_count": 19,
   "metadata": {},
   "outputs": [
    {
     "data": {
      "text/plain": [
       "'Write a concise summary of the following:\\n\\n\\n\"{text}\"\\n\\n\\nCONCISE SUMMARY:'"
      ]
     },
     "execution_count": 19,
     "metadata": {},
     "output_type": "execute_result"
    }
   ],
   "source": [
    "# for combining the parts\n",
    "chain.combine_document_chain.llm_chain.prompt.template"
   ]
  },
  {
   "cell_type": "code",
   "execution_count": 20,
   "metadata": {},
   "outputs": [
    {
     "name": "stdout",
     "output_type": "stream",
     "text": [
      "\n",
      "\n",
      "\u001b[1m> Entering new MapReduceDocumentsChain chain...\u001b[0m\n",
      "\n",
      "\n",
      "\u001b[1m> Entering new LLMChain chain...\u001b[0m\n",
      "Prompt after formatting:\n",
      "\u001b[32;1m\u001b[1;3mWrite a concise summary of the following:\n",
      "\n",
      "\n",
      "\"Machine learning is a rapidly evolving field within the broader domain of artificial intelligence (AI) that has garnered significant attention and acclaim in recent years. It encompasses a diverse array of techniques and algorithms designed to enable computers to learn from data and make predictions or decisions without being explicitly programmed. This transformative technology has applications across various industries and is at the heart of many cutting-edge innovations, promising to reshape the way we interact with technology and solve complex problems.\n",
      "\n",
      "At its core, machine learning relies on the idea that computers can analyze and interpret large datasets to discover patterns, relationships, and insights that might be too complex for humans to discern through traditional programming. This paradigm shift has empowered machines to excel in tasks that were once considered exclusively human, such as image and speech recognition, natural language processing, recommendation systems, autonomous vehicles, and even medical diagnostics.\n",
      "\n",
      "There are several fundamental types of machine learning, each with its unique characteristics:\n",
      "\n",
      "1. **Supervised Learning:** In this paradigm, the algorithm is trained on a labeled dataset, meaning it is provided with input data and the corresponding correct output. The model learns to map inputs to outputs and can then make predictions on new, unseen data. Common algorithms in supervised learning include linear regression, decision trees, and neural networks.\n",
      "\n",
      "2. **Unsupervised Learning:** Here, the algorithm explores patterns within the data without the guidance of labeled outputs. It aims to find hidden structures, group similar data points, or reduce the dimensionality of the data. Clustering and dimensionality reduction techniques, such as k-means clustering and principal component analysis (PCA), fall under this category.\n",
      "\n",
      "3. **Reinforcement Learning:** This type of machine learning is inspired by behavioral psychology. Agents learn to make sequential decisions by interacting with an environment. They receive rewards or penalties based on their actions, enabling them to optimize their decision-making policies over time. Reinforcement learning is behind the success of game-playing AI agents, like AlphaGo and AlphaZero, as well as robotics and autonomous systems.\n",
      "\n",
      "Machine learning models can range from simple linear regression models to complex deep neural networks with numerous layers and millions of parameters. The choice of model depends on the nature of the data and the specific problem at hand. Deep learning, a subfield of machine learning, has garnered immense attention due to its ability to handle vast amounts of data and perform exceptionally well in tasks like image recognition, speech synthesis, and natural language understanding.\n",
      "\n",
      "One of the critical challenges in machine learning is ensuring models generalize well to unseen data. Overfitting, where a model performs exceptionally well on the training data but poorly on new data, is a common pitfall. Techniques like cross-validation, regularization, and early stopping are used to mitigate this issue.\n",
      "\n",
      "The success of machine learning largely depends on data quality and quantity. High-quality, diverse, and representative datasets are crucial for training robust models. Moreover, ethical considerations, such as bias in data and algorithmic fairness, are paramount in ensuring that machine learning systems do not perpetuate discrimination or reinforce societal inequalities.\"\n",
      "\n",
      "\n",
      "CONCISE SUMMARY:\u001b[0m\n",
      "Prompt after formatting:\n",
      "\u001b[32;1m\u001b[1;3mWrite a concise summary of the following:\n",
      "\n",
      "\n",
      "\"The field of machine learning continues to advance at a breathtaking pace, driven by ongoing research, increased computational power, and the availability of vast amounts of data. As we look to the future, machine learning promises to revolutionize industries, enhance decision-making processes, and unlock new frontiers in AI, making our lives more efficient, convenient, and enriched. However, it also raises important questions about ethics, privacy, and the responsible development and deployment of AI systems, which society must address to harness the full potential of this transformative technology.\n",
      "\n",
      "Deep learning is a subfield of machine learning that has gained immense popularity and has been a driving force behind many of the recent breakthroughs in artificial intelligence. It is characterized by the use of neural networks with multiple layers, often referred to as deep neural networks, to model and solve complex tasks. Deep learning has found applications in a wide range of domains, from computer vision and natural language processing to robotics and healthcare, and it has played a pivotal role in advancing the field of AI.\n",
      "\n",
      "Key characteristics and concepts related to deep learning include:\n",
      "\n",
      "1. **Neural Networks:** At the heart of deep learning are artificial neural networks, which are inspired by the structure and function of the human brain. These networks consist of layers of interconnected nodes (neurons), each performing simple mathematical operations. Layers are typically divided into an input layer, one or more hidden layers, and an output layer. The hidden layers, when stacked, create the \"deep\" architecture that gives deep learning its name.\n",
      "\n",
      "2. **Deep Architectures:** Deep learning models have many layers, allowing them to capture hierarchical features and representations from the data. This depth enables them to learn complex patterns and relationships in the data, making them well-suited for tasks with high-dimensional input, such as image and speech recognition.\n",
      "\n",
      "3. **Convolutional Neural Networks (CNNs):** CNNs are a specific type of deep neural network designed for processing grid-like data, such as images and video. They use convolutional layers to automatically learn and extract features from input data, making them highly effective in tasks like object detection and image classification.\n",
      "\n",
      "4. **Recurrent Neural Networks (RNNs):** RNNs are designed for sequences of data, like time series or natural language text. They have feedback connections that allow information to flow from one step in the sequence to the next. This makes RNNs suitable for tasks such as language modeling, speech recognition, and machine translation.\n",
      "\n",
      "5. **Long Short-Term Memory (LSTM) and Gated Recurrent Unit (GRU):** These are specialized RNN architectures that address the vanishing gradient problem, allowing for more effective training of deep networks on long sequences of data.\n",
      "\n",
      "6. **Transfer Learning:** Deep learning models often require large amounts of data and computational resources for training. Transfer learning allows pre-trained models to be fine-tuned on new, smaller datasets, leveraging knowledge learned from larger, related tasks. This has been particularly successful in computer vision and natural language processing.\n",
      "\n",
      "7. **Generative Models:** Deep learning has produced impressive generative models, such as Generative Adversarial Networks (GANs) and Variational Autoencoders (VAEs), which can generate realistic images, text, and other data. GANs, for instance, have been used for art generation, image-to-image translation, and data augmentation.\n",
      "\n",
      "8. **Ethical and Societal Considerations:** As with all AI technologies, deep learning raises important ethical questions, including issues related to bias in data, transparency, and algorithmic fairness. The responsible development and deployment of deep learning models are critical to ensuring their positive impact on society.\"\n",
      "\n",
      "\n",
      "CONCISE SUMMARY:\u001b[0m\n",
      "Prompt after formatting:\n",
      "\u001b[32;1m\u001b[1;3mWrite a concise summary of the following:\n",
      "\n",
      "\n",
      "\"Deep learning has seen rapid progress due to advancements in hardware (particularly Graphics Processing Units or GPUs) and the availability of large datasets. Researchers continue to push the boundaries of what deep learning can achieve, and its applications are poised to continue expanding into various domains, from autonomous vehicles and healthcare to finance and beyond. However, it also presents challenges related to interpretability, robustness, and the need for responsible AI practices.\n",
      "\n",
      "\"Large Language Models\" (LLMs) represent a significant breakthrough in the field of natural language processing (NLP) and artificial intelligence. These models are characterized by their immense size, encompassing millions or even billions of parameters, and they have gained widespread attention and application in various domains. LLMs are typically trained using deep learning techniques and have the capability to understand, generate, and manipulate human language at an unprecedented level of sophistication.\n",
      "\n",
      "Key aspects and concepts related to Large Language Models include:\n",
      "\n",
      "1. **Transformer Architecture:** LLMs are built on the transformer architecture, which was introduced in the paper \"Attention Is All You Need\" by Vaswani et al. in 2017. The transformer architecture relies on self-attention mechanisms that enable the model to weigh the importance of different words or tokens in a sentence when processing information. This architecture has proven to be highly effective in capturing complex language patterns.\n",
      "\n",
      "2. **Pre-training and Fine-tuning:** LLMs are typically pre-trained on massive datasets containing text from the internet. During pre-training, the model learns to predict the next word in a sentence, which helps it acquire a deep understanding of language. After pre-training, the model can be fine-tuned on specific tasks, such as text classification, translation, question answering, and more. Fine-tuning makes LLMs versatile and adaptable to various NLP applications.\n",
      "\n",
      "3. **Scale:** What sets LLMs apart from earlier NLP models is their immense scale. Models like GPT-3 (Generative Pre-trained Transformer 3) by OpenAI have 175 billion parameters, making them some of the largest artificial neural networks ever created. This massive scale allows LLMs to generate highly coherent and contextually relevant text across a wide range of topics.\n",
      "\n",
      "4. **Text Generation:** LLMs are known for their text generation capabilities. They can generate human-like text in response to a given prompt, making them useful for chatbots, content generation, and creative writing applications. However, this also raises concerns about the potential misuse of AI-generated content.\n",
      "\n",
      "5. **Language Understanding:** LLMs excel in understanding and processing natural language text. They can answer questions, summarize text, perform sentiment analysis, and even translate between languages with remarkable accuracy. Their ability to contextualize information makes them valuable for a wide array of NLP tasks.\n",
      "\n",
      "6. **Ethical Considerations:** The use of LLMs has raised ethical concerns related to misinformation, bias in generated content, and the potential for malicious use. Efforts are underway to develop guidelines and practices to ensure responsible AI development and deployment.\n",
      "\n",
      "7. **Applications:** Large Language Models have been applied in a wide range of domains, including customer support chatbots, virtual assistants, content generation for news and creative writing, healthcare for medical text analysis, legal document review, and more. They are also used for research in linguistics and as tools for improving language understanding in various industries.\n",
      "\n",
      "8. **Continual Advancements:** The field of Large Language Models is continually evolving. Researchers are exploring ways to make these models more efficient, reduce biases, improve interpretability, and enhance their ability to perform more complex reasoning tasks.\"\n",
      "\n",
      "\n",
      "CONCISE SUMMARY:\u001b[0m\n",
      "Prompt after formatting:\n",
      "\u001b[32;1m\u001b[1;3mWrite a concise summary of the following:\n",
      "\n",
      "\n",
      "\"While Large Language Models have demonstrated remarkable capabilities, they also come with challenges related to their computational requirements, data biases, and ethical considerations. Striking the right balance between harnessing their potential and addressing these challenges is a key focus in the ongoing development of LLMs.\"\n",
      "\n",
      "\n",
      "CONCISE SUMMARY:\u001b[0m\n",
      "\n",
      "\u001b[1m> Finished chain.\u001b[0m\n",
      "\n",
      "\n",
      "\u001b[1m> Entering new LLMChain chain...\u001b[0m\n",
      "Prompt after formatting:\n",
      "\u001b[32;1m\u001b[1;3mWrite a concise summary of the following:\n",
      "\n",
      "\n",
      "\"Machine learning is a rapidly evolving field of artificial intelligence that allows computers to learn from data and make predictions without explicit programming. It has diverse applications across industries and is at the forefront of technological innovation. There are different types of machine learning, including supervised learning, unsupervised learning, and reinforcement learning. The choice of model depends on the data and problem at hand, with deep learning being particularly effective for tasks involving large amounts of data. Ensuring models generalize well to unseen data and addressing ethical considerations are important challenges in machine learning.\n",
      "\n",
      "The field of machine learning is advancing rapidly, with the potential to revolutionize industries and enhance decision-making. Deep learning, a subfield of machine learning, has been a driving force behind recent breakthroughs in AI. Key features of deep learning include neural networks, deep architectures, convolutional neural networks (CNNs), recurrent neural networks (RNNs), long short-term memory (LSTM), gated recurrent unit (GRU), transfer learning, generative models, and ethical considerations. Deep learning models have many layers, allowing them to capture complex patterns in data and are used in various domains such as computer vision and natural language processing. However, ethical and societal considerations must be addressed to ensure responsible development and deployment of deep learning models.\n",
      "\n",
      "Deep learning has made significant progress due to hardware advancements and access to large datasets. Large Language Models (LLMs) are a breakthrough in natural language processing, with immense size and the ability to understand and generate human language. LLMs are built on the transformer architecture, pre-trained on massive datasets and fine-tuned for specific tasks. They excel in text generation and language understanding but raise ethical concerns. LLMs have diverse applications and continual advancements are being made to improve their efficiency and capabilities.\n",
      "\n",
      "Large Language Models (LLMs) have impressive capabilities, but they also pose challenges in terms of computational needs, data biases, and ethical concerns. The main goal in developing LLMs is to find the right balance between utilizing their potential and mitigating these challenges.\"\n",
      "\n",
      "\n",
      "CONCISE SUMMARY:\u001b[0m\n",
      "\n",
      "\u001b[1m> Finished chain.\u001b[0m\n",
      "\n",
      "\u001b[1m> Finished chain.\u001b[0m\n",
      "Machine learning is a rapidly evolving field that allows computers to learn and make predictions\n",
      "without explicit programming. Deep learning, a subfield of machine learning, has been instrumental\n",
      "in recent AI breakthroughs. It uses neural networks and complex architectures to capture patterns in\n",
      "data. Deep learning models, such as Large Language Models, have impressive capabilities in natural\n",
      "language processing but also raise ethical concerns. Balancing their potential with computational\n",
      "needs, data biases, and ethical considerations is crucial in their development.\n"
     ]
    }
   ],
   "source": [
    "chain = load_summarize_chain(llm, \n",
    "                             chain_type=\"map_reduce\",\n",
    "                             verbose=True\n",
    "                             )\n",
    "\n",
    "\n",
    "output_summary = chain.run(docs)\n",
    "wrapped_text = textwrap.fill(output_summary, \n",
    "                             width=100,\n",
    "                             break_long_words=False,\n",
    "                             replace_whitespace=False)\n",
    "print(wrapped_text)"
   ]
  },
  {
   "cell_type": "markdown",
   "metadata": {},
   "source": [
    "![Alt text](assets/image333.png)"
   ]
  },
  {
   "cell_type": "markdown",
   "metadata": {},
   "source": [
    "\n",
    "\n",
    "### 2] Stuffing [run all at once, the normal way]\n",
    "Stuffing is the simplest method, whereby you simply stuff all the related data into the prompt as context to pass to the language model. This is implemented in LangChain as the StuffDocumentsChain.\n",
    "\n",
    "**Pros:** Only makes a single call to the LLM. When generating text, the LLM has access to all the data at once.\n",
    "\n",
    "**Cons:** Most LLMs have a context length, and for large documents (or many documents) this will not work as it will result in a prompt larger than the context length.\n",
    "\n",
    "The main downside of this method is that **it only works one smaller pieces of data.**  Once you are working with many pieces of data, this approach is no longer feasible. The next two approaches are designed to help deal with that.\n",
    "\n"
   ]
  },
  {
   "cell_type": "code",
   "execution_count": 22,
   "metadata": {},
   "outputs": [
    {
     "data": {
      "text/plain": [
       "11767"
      ]
     },
     "execution_count": 22,
     "metadata": {},
     "output_type": "execute_result"
    }
   ],
   "source": [
    "len(ml_text)"
   ]
  },
  {
   "cell_type": "code",
   "execution_count": 23,
   "metadata": {},
   "outputs": [],
   "source": [
    "chain = load_summarize_chain(llm, chain_type=\"stuff\")\n",
    "\n",
    "prompt_template = \"\"\"Write a concise bullet point summary of the following:\n",
    "\n",
    "\n",
    "{text}\n",
    "\n",
    "\n",
    "CONSCISE SUMMARY IN BULLET POINTS:\"\"\"\n",
    "\n",
    "BULLET_POINT_PROMPT = PromptTemplate(\n",
    "                                    template=prompt_template, \n",
    "                                    input_variables=[\"text\"]\n",
    "                                    )"
   ]
  },
  {
   "cell_type": "code",
   "execution_count": 24,
   "metadata": {},
   "outputs": [
    {
     "name": "stdout",
     "output_type": "stream",
     "text": [
      "- Machine learning is an evolving field within AI that allows computers to learn from data without\n",
      "explicit programming.\n",
      "- It has diverse applications in industries like image and speech recognition,\n",
      "recommendation systems, and medical diagnostics.\n",
      "- Fundamental types of machine learning include\n",
      "supervised, unsupervised, and reinforcement learning.\n",
      "- Deep learning, a subfield of machine\n",
      "learning, uses neural networks with multiple layers to solve complex tasks.\n",
      "- Deep learning has\n",
      "found applications in computer vision, natural language processing, robotics, and healthcare.\n",
      "-\n",
      "Large language models are characterized by their immense size and ability to understand and generate\n",
      "human language.\n",
      "- They are built on the transformer architecture, pre-trained on large datasets, and\n",
      "fine-tuned for specific tasks.\n",
      "- Large language models excel in text generation, language\n",
      "understanding, and have applications in chatbots, content generation, and more.\n",
      "- Ethical\n",
      "considerations and responsible AI practices are important in the development and deployment of\n",
      "machine learning and large language models.\n",
      "- Ongoing advancements in hardware, data availability,\n",
      "and research continue to drive the progress of machine learning and large language models.\n"
     ]
    }
   ],
   "source": [
    "chain = load_summarize_chain(llm, \n",
    "                             chain_type=\"stuff\", \n",
    "                             prompt=BULLET_POINT_PROMPT)\n",
    "\n",
    "output_summary = chain.run(docs)\n",
    "\n",
    "wrapped_text = textwrap.fill(output_summary, \n",
    "                             width=100,\n",
    "                             break_long_words=False,\n",
    "                             replace_whitespace=False)\n",
    "print(wrapped_text)"
   ]
  },
  {
   "cell_type": "markdown",
   "metadata": {},
   "source": [
    "### Since we are using 16K turbo this can run, but what if 4K turbo ? there whould be a information loss because of the token length exceeding the limit of 4K tokens."
   ]
  },
  {
   "cell_type": "markdown",
   "metadata": {},
   "source": [
    "# How to use map reduce with custom prompt"
   ]
  },
  {
   "cell_type": "code",
   "execution_count": 26,
   "metadata": {},
   "outputs": [
    {
     "name": "stdout",
     "output_type": "stream",
     "text": [
      "- Machine learning is a rapidly evolving field within AI that enables computers to learn from data\n",
      "without explicit programming.\n",
      "- It has applications across industries and can reshape technology and\n",
      "problem-solving.\n",
      "- There are three fundamental types of machine learning: supervised, unsupervised,\n",
      "and reinforcement learning.\n",
      "- Deep learning, a subfield of machine learning, has been a driving\n",
      "force behind recent breakthroughs in AI.\n",
      "- Deep learning models use neural networks with multiple\n",
      "layers to learn complex patterns in high-dimensional data.\n",
      "- Ethical considerations, such as bias\n",
      "and fairness, are important in machine learning systems.\n",
      "- Deep learning has made significant\n",
      "progress thanks to advancements in hardware and availability of large datasets.\n",
      "- Large Language\n",
      "Models (LLMs) are breakthrough models in natural language processing (NLP) and AI.\n",
      "- LLMs are pre-\n",
      "trained on massive text datasets and fine-tuned for specific NLP tasks.\n",
      "- LLMs have impressive\n",
      "capabilities but require significant computational resources.\n",
      "- Ethical concerns, such as biases in\n",
      "the data and misinformation, arise with the use of LLMs.\n",
      "- Ongoing advancements aim to make LLMs\n",
      "more efficient, reduce biases, and enhance reasoning abilities.\n"
     ]
    }
   ],
   "source": [
    "chain = load_summarize_chain(\n",
    "                            llm, \n",
    "                            chain_type=\"map_reduce\",\n",
    "                            map_prompt=BULLET_POINT_PROMPT,    # define the prompt for individual docs \n",
    "                            combine_prompt=BULLET_POINT_PROMPT # define the prompt for combining docs\n",
    "                            )\n",
    "\n",
    "# chain.llm_chain.prompt= BULLET_POINT_PROMPT\n",
    "# chain.combine_document_chain.llm_chain.prompt= BULLET_POINT_PROMPT\n",
    "\n",
    "output_summary = chain.run(docs)\n",
    "wrapped_text = textwrap.fill(output_summary, \n",
    "                             width=100,\n",
    "                             break_long_words=False,\n",
    "                             replace_whitespace=False)\n",
    "print(wrapped_text)"
   ]
  },
  {
   "cell_type": "markdown",
   "metadata": {},
   "source": [
    "### You can also see and use the outputs of the intermediate step aswell"
   ]
  },
  {
   "cell_type": "code",
   "execution_count": 27,
   "metadata": {},
   "outputs": [
    {
     "name": "stdout",
     "output_type": "stream",
     "text": [
      "- Machine learning is a rapidly evolving field within AI that allows computers to learn from data\n",
      "and make predictions without explicit programming.\n",
      "- It has diverse applications across industries\n",
      "and relies on analyzing large datasets to discover patterns.\n",
      "- There are three types of machine\n",
      "learning: supervised, unsupervised, and reinforcement learning.\n",
      "- Deep learning, a subfield of\n",
      "machine learning, can handle vast amounts of data and is inspired by the human brain.\n",
      "- Ethical\n",
      "considerations, data quality, and quantity are important factors in the success of machine learning.\n",
      "- Deep learning has had a significant impact on AI, with neural networks at its core.\n",
      "-\n",
      "Convolutional neural networks are effective for image processing, while recurrent neural networks\n",
      "are suited for time series and text data.\n",
      "- Transfer learning, fine-tuning pre-trained models, and\n",
      "generative models have been successful in deep learning.\n",
      "- Ethical considerations, bias in data, and\n",
      "algorithmic fairness must be addressed in the development and deployment of deep learning models.\n",
      "-\n",
      "Large Language Models (LLMs) are huge models used in natural language processing.\n",
      "- LLMs are\n",
      "characterized by their immense scale and have text generation and language understanding\n",
      "capabilities.\n",
      "- Ethical concerns arise with the use of LLMs, and efforts are being made for\n",
      "responsible AI practices.\n",
      "-\n"
     ]
    }
   ],
   "source": [
    "chain = load_summarize_chain(\n",
    "                            llm, \n",
    "                            chain_type=\"map_reduce\",\n",
    "                            return_intermediate_steps=True,\n",
    "                            map_prompt=BULLET_POINT_PROMPT,    # define the prompt for individual docs \n",
    "                            combine_prompt=BULLET_POINT_PROMPT # define the prompt for combining docs\n",
    "                            )\n",
    "\n",
    "output_summary = chain({\"input_documents\": docs}, return_only_outputs=True)\n",
    "wrapped_text = textwrap.fill(output_summary['output_text'], \n",
    "                             width=100,\n",
    "                             break_long_words=False,\n",
    "                             replace_whitespace=False)\n",
    "print(wrapped_text)"
   ]
  },
  {
   "cell_type": "markdown",
   "metadata": {},
   "source": [
    "## 4 intermediate steps for 4 individual documents"
   ]
  },
  {
   "cell_type": "code",
   "execution_count": 28,
   "metadata": {},
   "outputs": [
    {
     "data": {
      "text/plain": [
       "{'intermediate_steps': ['- Machine learning is a rapidly evolving field within artificial intelligence (AI) that allows computers to learn from data and make predictions or decisions without explicit programming.\\n- It has diverse applications across various industries and is at the heart of cutting-edge innovations.\\n- Machine learning relies on analyzing large datasets to discover complex patterns and insights.\\n- There are three fundamental types of machine learning: supervised learning, unsupervised learning, and reinforcement learning.\\n- Machine learning models can range from simple to complex, with deep learning being a subfield that can handle vast amounts of data.\\n- Ensuring models generalize well to new data and avoiding overfitting is a critical challenge in machine learning.\\n- The success of machine learning depends on data quality and quantity, as well as ethical considerations to prevent bias and discrimination.',\n",
       "  '- Machine learning is advancing rapidly, promising to revolutionize industries and enhance decision-making processes\\n- Deep learning is a subfield of machine learning that has had a significant impact on artificial intelligence\\n- Neural networks are at the core of deep learning, inspired by the structure and function of the human brain\\n- Deep architectures with multiple layers allow for the capture of complex patterns and relationships in data\\n- Convolutional Neural Networks (CNNs) are effective for image and video processing, while Recurrent Neural Networks (RNNs) are suited for time series and text data\\n- Long Short-Term Memory (LSTM) and Gated Recurrent Unit (GRU) help address training challenges with deep networks on long sequences of data\\n- Transfer learning allows pre-trained models to be fine-tuned on smaller datasets, leveraging knowledge from related tasks\\n- Deep learning has produced impressive generative models, such as GANs and VAEs, capable of generating realistic images and text\\n- Ethical considerations, including bias in data and algorithmic fairness, must be addressed for responsible development and deployment of deep learning models.',\n",
       "  '- Deep learning has advanced due to hardware advancements and large datasets, with applications expanding into various domains.\\n- Large Language Models (LLMs) are huge models used for natural language processing.\\n- LLMs are built on the transformer architecture, which uses self-attention mechanisms to process language.\\n- LLMs are pre-trained on large datasets and then fine-tuned for specific tasks.\\n- LLMs are characterized by their immense scale, with billions of parameters.\\n- LLMs have text generation and language understanding capabilities.\\n- Ethical concerns arise with the use of LLMs, and efforts are being made for responsible AI practices.\\n- LLMs have various applications in customer support, content generation, healthcare, legal analysis, and more.\\n- Ongoing advancements aim to make LLMs more efficient, reduce biases, improve interpretability, and enhance reasoning abilities.',\n",
       "  \"- Large Language Models (LLMs) have remarkable capabilities.\\n- LLMs have computational requirements, data biases, and ethical challenges.\\n- Striking a balance between harnessing LLMs' potential and addressing these challenges is crucial.\\n- Ongoing development of LLMs focuses on finding this balance.\"],\n",
       " 'output_text': '- Machine learning is a rapidly evolving field within AI that allows computers to learn from data and make predictions without explicit programming.\\n- It has diverse applications across industries and relies on analyzing large datasets to discover patterns.\\n- There are three types of machine learning: supervised, unsupervised, and reinforcement learning.\\n- Deep learning, a subfield of machine learning, can handle vast amounts of data and is inspired by the human brain.\\n- Ethical considerations, data quality, and quantity are important factors in the success of machine learning.\\n- Deep learning has had a significant impact on AI, with neural networks at its core.\\n- Convolutional neural networks are effective for image processing, while recurrent neural networks are suited for time series and text data.\\n- Transfer learning, fine-tuning pre-trained models, and generative models have been successful in deep learning.\\n- Ethical considerations, bias in data, and algorithmic fairness must be addressed in the development and deployment of deep learning models.\\n- Large Language Models (LLMs) are huge models used in natural language processing.\\n- LLMs are characterized by their immense scale and have text generation and language understanding capabilities.\\n- Ethical concerns arise with the use of LLMs, and efforts are being made for responsible AI practices.\\n-'}"
      ]
     },
     "execution_count": 28,
     "metadata": {},
     "output_type": "execute_result"
    }
   ],
   "source": [
    "output_summary"
   ]
  },
  {
   "cell_type": "markdown",
   "metadata": {},
   "source": [
    "## 3] Refine\n",
    "This method involves **an initial prompt on the first chunk of data, generating some output. For the remaining documents, that output is passed in, along with the next document**, asking the LLM to refine the output based on the new document.\n",
    "\n",
    "**Pros:** Can pull in more relevant context, and may be less lossy than MapReduceDocumentsChain.\n",
    "\n",
    "**Cons:** Requires many more calls to the LLM than StuffDocumentsChain. The calls are also NOT independent, meaning they cannot be paralleled like MapReduceDocumentsChain. There is also some potential dependencies on the ordering of the documents."
   ]
  },
  {
   "cell_type": "markdown",
   "metadata": {},
   "source": [
    "![Alt text](image.png)"
   ]
  },
  {
   "cell_type": "code",
   "execution_count": 29,
   "metadata": {},
   "outputs": [
    {
     "name": "stdout",
     "output_type": "stream",
     "text": [
      "The field of machine learning continues to advance rapidly, enabling computers to learn from data\n",
      "and make predictions without explicit programming. It has applications in various industries and is\n",
      "at the forefront of cutting-edge innovations. Machine learning relies on large datasets to discover\n",
      "complex patterns and insights. There are three fundamental types of machine learning: supervised\n",
      "learning, unsupervised learning, and reinforcement learning. Models can range from simple linear\n",
      "regression to complex neural networks. Ensuring models generalize well and addressing ethical\n",
      "considerations are critical challenges in machine learning. Additionally, deep learning, a subfield\n",
      "of machine learning, has gained popularity and is driving breakthroughs in artificial intelligence.\n",
      "It uses neural networks with multiple layers to solve complex tasks and has found applications in\n",
      "various domains, including autonomous vehicles, healthcare, finance, and more. Deep learning faces\n",
      "challenges related to interpretability, robustness, and the need for responsible AI practices.\n",
      "Another significant development in the field is the emergence of Large Language Models (LLMs), which\n",
      "are characterized by their immense size and have revolutionized natural language processing and AI.\n",
      "LLMs, built on the transformer architecture, are pre-trained on massive datasets and then fine-tuned\n",
      "for specific tasks. They excel in understanding and generating human-like text, making them useful\n",
      "for chatbots, content generation, translation.\n"
     ]
    }
   ],
   "source": [
    "chain = load_summarize_chain(llm, chain_type=\"refine\")\n",
    "\n",
    "output_summary = chain.run(docs)\n",
    "wrapped_text = textwrap.fill(output_summary, width=100)\n",
    "print(wrapped_text)"
   ]
  },
  {
   "cell_type": "markdown",
   "metadata": {},
   "source": [
    "# Now we going to verify the Facts generated by the LLM"
   ]
  },
  {
   "cell_type": "code",
   "execution_count": 30,
   "metadata": {},
   "outputs": [
    {
     "name": "stdout",
     "output_type": "stream",
     "text": [
      "Coinbase, the second-largest crypto exchange by trading volume, released its Q4 2022 earnings on\n",
      "Tuesday, giving shareholders and market players alike an updated look into its financials. In\n",
      "response to the report, the company's shares are down modestly in early after-hours trading.In the\n",
      "fourth quarter of 2022, Coinbase generated $605 million in total revenue, down sharply from $2.49\n",
      "billion in the year-ago quarter. Coinbase's top line was not enough to cover its expenses: The\n",
      "company lost $557 million in the three-month period on a GAAP basis (net income) worth -$2.46 per\n",
      "share, and an adjusted EBITDA deficit of $124 million.Wall Street expected Coinbase to report $581.2\n",
      "million in revenue and earnings per share of -$2.44 with adjusted EBITDA of -$201.8 million driven\n",
      "by 8.4 million monthly transaction users (MTUs), according to data provided by Yahoo Finance.Before\n",
      "its Q4 earnings were released, Coinbase's stock had risen 86% year-to-date. Even with that rally,\n",
      "the value of Coinbase when measured on a per-share basis is still down significantly from its\n",
      "52-week high of $206.79.That Coinbase beat revenue expectations is notable in that it came with\n",
      "declines in trading volume; Coinbase historically generated the bulk of its revenues from trading\n",
      "fees, making Q4 2022 notable. Consumer trading volumes fell from $26 billion in the third quarter of\n",
      "last year to $20 billion in Q4, while institutional volumes across the same timeframe fell from $133\n",
      "billion to $125 billion.The overall crypto market capitalization fell about 64%, or $1.5 trillion\n",
      "during 2022, which resulted in Coinbase's total trading volumes and transaction revenues to fall 50%\n",
      "and 66% year-over-year, respectively, the company reported.As you would expect with declines in\n",
      "trading volume, trading revenue at Coinbase fell in Q4 compared to the third quarter of last year,\n",
      "dipping from $365.9 million to $322.1 million. (TechCrunch is comparing Coinbase's Q4 2022 results\n",
      "to Q3 2022 instead of Q4 2021, as the latter comparison would be less useful given how much the\n",
      "crypto market has changed in the last year; we're all aware that overall crypto activity has fallen\n",
      "from the final months of 2021.)There were bits of good news in the Coinbase report. While Coinbase's\n",
      "trading revenues were less than exuberant, the company's other revenues posted gains. What Coinbase\n",
      "calls its \"subscription and services revenue\" rose from $210.5 million in Q3 2022 to $282.8 million\n",
      "in Q4 of the same year, a gain of just over 34% in a single quarter.And even as the crypto industry\n",
      "faced a number of catastrophic events, including the Terra/LUNA and FTX collapses to name a few,\n",
      "there was still growth in other areas. The monthly active developers in crypto have more than\n",
      "doubled since 2020 to over 20,000, while major brands like Starbucks, Nike and Adidas have dived\n",
      "into the space alongside social media platforms like Instagram and Reddit.With big players getting\n",
      "into crypto, industry players are hoping this move results in greater adoption both for product use\n",
      "cases and trading volumes. Although there was a lot of movement from traditional retail markets and\n",
      "Web 2.0 businesses, trading volume for both consumer and institutional users fell quarter-over-\n",
      "quarter for Coinbase.Looking forward, it'll be interesting to see if these pieces pick back up and\n",
      "trading interest reemerges in 2023, or if platforms like Coinbase will have to keep looking\n",
      "elsewhere for revenue (like its subscription service) if users continue to shy away from the market.\n"
     ]
    }
   ],
   "source": [
    "article = '''Coinbase, the second-largest crypto exchange by trading volume, released its Q4 2022 earnings on Tuesday, giving shareholders and market players alike an updated look into its financials. In response to the report, the company's shares are down modestly in early after-hours trading.In the fourth quarter of 2022, Coinbase generated $605 million in total revenue, down sharply from $2.49 billion in the year-ago quarter. Coinbase's top line was not enough to cover its expenses: The company lost $557 million in the three-month period on a GAAP basis (net income) worth -$2.46 per share, and an adjusted EBITDA deficit of $124 million.Wall Street expected Coinbase to report $581.2 million in revenue and earnings per share of -$2.44 with adjusted EBITDA of -$201.8 million driven by 8.4 million monthly transaction users (MTUs), according to data provided by Yahoo Finance.Before its Q4 earnings were released, Coinbase's stock had risen 86% year-to-date. Even with that rally, the value of Coinbase when measured on a per-share basis is still down significantly from its 52-week high of $206.79.That Coinbase beat revenue expectations is notable in that it came with declines in trading volume; Coinbase historically generated the bulk of its revenues from trading fees, making Q4 2022 notable. Consumer trading volumes fell from $26 billion in the third quarter of last year to $20 billion in Q4, while institutional volumes across the same timeframe fell from $133 billion to $125 billion.The overall crypto market capitalization fell about 64%, or $1.5 trillion during 2022, which resulted in Coinbase's total trading volumes and transaction revenues to fall 50% and 66% year-over-year, respectively, the company reported.As you would expect with declines in trading volume, trading revenue at Coinbase fell in Q4 compared to the third quarter of last year, dipping from $365.9 million to $322.1 million. (TechCrunch is comparing Coinbase's Q4 2022 results to Q3 2022 instead of Q4 2021, as the latter comparison would be less useful given how much the crypto market has changed in the last year; we're all aware that overall crypto activity has fallen from the final months of 2021.)There were bits of good news in the Coinbase report. While Coinbase's trading revenues were less than exuberant, the company's other revenues posted gains. What Coinbase calls its \"subscription and services revenue\" rose from $210.5 million in Q3 2022 to $282.8 million in Q4 of the same year, a gain of just over 34% in a single quarter.And even as the crypto industry faced a number of catastrophic events, including the Terra/LUNA and FTX collapses to name a few, there was still growth in other areas. The monthly active developers in crypto have more than doubled since 2020 to over 20,000, while major brands like Starbucks, Nike and Adidas have dived into the space alongside social media platforms like Instagram and Reddit.With big players getting into crypto, industry players are hoping this move results in greater adoption both for product use cases and trading volumes. Although there was a lot of movement from traditional retail markets and Web 2.0 businesses, trading volume for both consumer and institutional users fell quarter-over-quarter for Coinbase.Looking forward, it'll be interesting to see if these pieces pick back up and trading interest reemerges in 2023, or if platforms like Coinbase will have to keep looking elsewhere for revenue (like its subscription service) if users continue to shy away from the market.\n",
    "'''\n",
    "\n",
    "wrapped_text = textwrap.fill(article, \n",
    "                             width=100,\n",
    "                             break_long_words=False,\n",
    "                             replace_whitespace=False)\n",
    "print(wrapped_text)"
   ]
  },
  {
   "cell_type": "code",
   "execution_count": 31,
   "metadata": {},
   "outputs": [
    {
     "data": {
      "text/plain": [
       "3533"
      ]
     },
     "execution_count": 31,
     "metadata": {},
     "output_type": "execute_result"
    }
   ],
   "source": [
    "len(article)"
   ]
  },
  {
   "cell_type": "code",
   "execution_count": 32,
   "metadata": {},
   "outputs": [],
   "source": [
    "fact_extraction_prompt = PromptTemplate(\n",
    "                                        input_variables=[\"text_input\"],\n",
    "                                        template=\"Extract the key facts out of this text. Don't include opinions. \\\n",
    "                                        Give each fact a number and keep them short sentences. :\\n\\n {text_input}\"\n",
    "                                        )"
   ]
  },
  {
   "cell_type": "code",
   "execution_count": 33,
   "metadata": {},
   "outputs": [
    {
     "name": "stdout",
     "output_type": "stream",
     "text": [
      "1. Coinbase released its Q4 2022 earnings, revealing $605 million in total revenue.\n",
      "2. The company's\n",
      "revenue declined sharply from $2.49 billion in the year-ago quarter.\n",
      "3. Coinbase experienced a net\n",
      "loss of $557 million in the fourth quarter.\n",
      "4. Wall Street expected Coinbase to report $581.2\n",
      "million in revenue.\n",
      "5. Coinbase's stock had risen 86% year-to-date before the earnings release.\n",
      "6.\n",
      "Coinbase's trading volumes and transaction revenues fell 50% and 66% year-over-year.\n",
      "7. Trading\n",
      "revenue at Coinbase fell from $365.9 million to $322.1 million in Q4.\n",
      "8. Coinbase's \"subscription\n",
      "and services revenue\" increased by just over 34% in Q4.\n",
      "9. The number of monthly active developers\n",
      "in crypto has more than doubled since 2020.\n",
      "10. Major brands like Starbucks, Nike, and Adidas have\n",
      "entered the crypto space.\n",
      "11. Trading volume for both consumer and institutional users fell quarter-\n",
      "over-quarter for Coinbase.\n",
      "12. The industry hopes for greater adoption due to big players entering\n",
      "crypto.\n"
     ]
    }
   ],
   "source": [
    "fact_extraction_chain = LLMChain(llm=llm, prompt=fact_extraction_prompt)\n",
    "\n",
    "facts = fact_extraction_chain.run(article)\n",
    "\n",
    "wrapped_text = textwrap.fill(facts, \n",
    "                             width=100,\n",
    "                             break_long_words=False,\n",
    "                             replace_whitespace=False)\n",
    "print(wrapped_text)"
   ]
  },
  {
   "cell_type": "code",
   "execution_count": 34,
   "metadata": {},
   "outputs": [
    {
     "name": "stderr",
     "output_type": "stream",
     "text": [
      "WARNING! engine is not default parameter.\n",
      "                    engine was transferred to model_kwargs.\n",
      "                    Please confirm that engine is what you intended.\n",
      "/Users/1zuu/anaconda3/envs/llm/lib/python3.10/site-packages/langchain/chains/llm_summarization_checker/base.py:114: UserWarning: Directly instantiating an LLMSummarizationCheckerChain with an llm is deprecated. Please instantiate with sequential_chain argument or using the from_llm class method.\n",
      "  warnings.warn(\n"
     ]
    },
    {
     "name": "stdout",
     "output_type": "stream",
     "text": [
      "\n",
      "\n",
      "\u001b[1m> Entering new LLMSummarizationCheckerChain chain...\u001b[0m\n",
      "\n",
      "\n",
      "\u001b[1m> Entering new SequentialChain chain...\u001b[0m\n",
      "\n",
      "\n",
      "\u001b[1m> Entering new LLMChain chain...\u001b[0m\n",
      "Prompt after formatting:\n",
      "\u001b[32;1m\u001b[1;3mGiven some text, extract a list of facts from the text.\n",
      "\n",
      "Format your output as a bulleted list.\n",
      "\n",
      "Text:\n",
      "\"\"\"\n",
      "Coinbase, the second-largest crypto exchange by trading volume, released its Q4 2022 earnings on Tuesday, giving shareholders and market players alike an updated look into its financials. In response to the report, the company's shares are down modestly in early after-hours trading.In the fourth quarter of 2022, Coinbase generated $605 million in total revenue, down sharply from $2.49 billion in the year-ago quarter. Coinbase's top line was not enough to cover its expenses: The company lost $557 million in the three-month period on a GAAP basis (net income) worth -$2.46 per share, and an adjusted EBITDA deficit of $124 million.Wall Street expected Coinbase to report $581.2 million in revenue and earnings per share of -$2.44 with adjusted EBITDA of -$201.8 million driven by 8.4 million monthly transaction users (MTUs), according to data provided by Yahoo Finance.Before its Q4 earnings were released, Coinbase's stock had risen 86% year-to-date. Even with that rally, the value of Coinbase when measured on a per-share basis is still down significantly from its 52-week high of $206.79.That Coinbase beat revenue expectations is notable in that it came with declines in trading volume; Coinbase historically generated the bulk of its revenues from trading fees, making Q4 2022 notable. Consumer trading volumes fell from $26 billion in the third quarter of last year to $20 billion in Q4, while institutional volumes across the same timeframe fell from $133 billion to $125 billion.The overall crypto market capitalization fell about 64%, or $1.5 trillion during 2022, which resulted in Coinbase's total trading volumes and transaction revenues to fall 50% and 66% year-over-year, respectively, the company reported.As you would expect with declines in trading volume, trading revenue at Coinbase fell in Q4 compared to the third quarter of last year, dipping from $365.9 million to $322.1 million. (TechCrunch is comparing Coinbase's Q4 2022 results to Q3 2022 instead of Q4 2021, as the latter comparison would be less useful given how much the crypto market has changed in the last year; we're all aware that overall crypto activity has fallen from the final months of 2021.)There were bits of good news in the Coinbase report. While Coinbase's trading revenues were less than exuberant, the company's other revenues posted gains. What Coinbase calls its \"subscription and services revenue\" rose from $210.5 million in Q3 2022 to $282.8 million in Q4 of the same year, a gain of just over 34% in a single quarter.And even as the crypto industry faced a number of catastrophic events, including the Terra/LUNA and FTX collapses to name a few, there was still growth in other areas. The monthly active developers in crypto have more than doubled since 2020 to over 20,000, while major brands like Starbucks, Nike and Adidas have dived into the space alongside social media platforms like Instagram and Reddit.With big players getting into crypto, industry players are hoping this move results in greater adoption both for product use cases and trading volumes. Although there was a lot of movement from traditional retail markets and Web 2.0 businesses, trading volume for both consumer and institutional users fell quarter-over-quarter for Coinbase.Looking forward, it'll be interesting to see if these pieces pick back up and trading interest reemerges in 2023, or if platforms like Coinbase will have to keep looking elsewhere for revenue (like its subscription service) if users continue to shy away from the market.\n",
      "\n",
      "\"\"\"\n",
      "\n",
      "Facts:\u001b[0m\n",
      "\n",
      "\u001b[1m> Finished chain.\u001b[0m\n",
      "\n",
      "\n",
      "\u001b[1m> Entering new LLMChain chain...\u001b[0m\n",
      "Prompt after formatting:\n",
      "\u001b[32;1m\u001b[1;3mYou are an expert fact checker. You have been hired by a major news organization to fact check a very important story.\n",
      "\n",
      "Here is a bullet point list of facts:\n",
      "\"\"\"\n",
      "- Coinbase released its Q4 2022 earnings on Tuesday.\n",
      "- Coinbase generated $605 million in total revenue in Q4 2022.\n",
      "- Coinbase's revenue was down sharply from $2.49 billion in the year-ago quarter.\n",
      "- Coinbase lost $557 million in the three-month period on a GAAP basis.\n",
      "- Coinbase had an adjusted EBITDA deficit of $124 million.\n",
      "- Wall Street expected Coinbase to report $581.2 million in revenue and earnings per share of -$2.44 with adjusted EBITDA of -$201.8 million.\n",
      "- Coinbase's stock had risen 86% year-to-date before the Q4 earnings release.\n",
      "- Coinbase's stock value is still down significantly from its 52-week high of $206.79.\n",
      "- Coinbase beat revenue expectations despite declines in trading volume.\n",
      "- Consumer trading volumes fell from $26 billion in Q3 2022 to $20 billion in Q4 2022.\n",
      "- Institutional trading volumes fell from $133 billion to $125 billion in the same timeframe.\n",
      "- The overall crypto market capitalization fell about 64% during 2022.\n",
      "- Coinbase's total trading volumes and transaction revenues fell 50% and 66% year-over-year, respectively.\n",
      "- Trading revenue at Coinbase fell from $365.9 million in Q3 2022 to $322.1 million in Q4 2022.\n",
      "- Coinbase's \"subscription and services revenue\" rose from $210.5 million in Q3 2022 to $282.8 million in Q4 2022.\n",
      "- The monthly active developers in crypto have more than doubled since 2020 to over 20,000.\n",
      "- Major brands like Starbucks, Nike, and Adidas have entered the crypto space.\n",
      "- Trading volume for both consumer and institutional users fell quarter-over-quarter for Coinbase.\n",
      "\"\"\"\n",
      "\n",
      "For each fact, determine whether it is true or false about the subject. If you are unable to determine whether the fact is true or false, output \"Undetermined\".\n",
      "If the fact is false, explain why.\n",
      "\n",
      "\u001b[0m\n",
      "\n",
      "\u001b[1m> Finished chain.\u001b[0m\n",
      "\n",
      "\n",
      "\u001b[1m> Entering new LLMChain chain...\u001b[0m\n",
      "Prompt after formatting:\n",
      "\u001b[32;1m\u001b[1;3mBelow are some assertions that have been fact checked and are labeled as true or false. If the answer is false, a suggestion is given for a correction.\n",
      "\n",
      "Checked Assertions:\n",
      "\"\"\"\n",
      "Fact 1: Coinbase released its Q4 2022 earnings on Tuesday.\n",
      "True.\n",
      "\n",
      "Fact 2: Coinbase generated $605 million in total revenue in Q4 2022.\n",
      "True.\n",
      "\n",
      "Fact 3: Coinbase's revenue was down sharply from $2.49 billion in the year-ago quarter.\n",
      "True.\n",
      "\n",
      "Fact 4: Coinbase lost $557 million in the three-month period on a GAAP basis.\n",
      "True.\n",
      "\n",
      "Fact 5: Coinbase had an adjusted EBITDA deficit of $124 million.\n",
      "True.\n",
      "\n",
      "Fact 6: Wall Street expected Coinbase to report $581.2 million in revenue and earnings per share of -$2.44 with adjusted EBITDA of -$201.8 million.\n",
      "True.\n",
      "\n",
      "Fact 7: Coinbase's stock had risen 86% year-to-date before the Q4 earnings release.\n",
      "Undetermined. The fact does not provide enough information to determine its truthfulness.\n",
      "\n",
      "Fact 8: Coinbase's stock value is still down significantly from its 52-week high of $206.79.\n",
      "True.\n",
      "\n",
      "Fact 9: Coinbase beat revenue expectations despite declines in trading volume.\n",
      "True.\n",
      "\n",
      "Fact 10: Consumer trading volumes fell from $26 billion in Q3 2022 to $20 billion in Q4 2022.\n",
      "True.\n",
      "\n",
      "Fact 11: Institutional trading volumes fell from $133 billion to $125 billion in the same timeframe.\n",
      "True.\n",
      "\n",
      "Fact 12: The overall crypto market capitalization fell about 64% during 2022.\n",
      "True.\n",
      "\n",
      "Fact 13: Coinbase's total trading volumes and transaction revenues fell 50% and 66% year-over-year, respectively.\n",
      "True.\n",
      "\n",
      "Fact 14: Trading revenue at Coinbase fell from $365.9 million in Q3 2022 to $322.1 million in Q4 2022.\n",
      "True.\n",
      "\n",
      "Fact 15: Coinbase's \"subscription and services revenue\" rose from $210.5 million in Q3 2022 to $282.8 million in Q4 2022.\n",
      "True.\n",
      "\n",
      "Fact 16: The monthly active developers in crypto have more than doubled since 2020 to over 20,000.\n",
      "True.\n",
      "\n",
      "Fact 17: Major brands like Starbucks, Nike, and Adidas have entered the crypto space.\n",
      "True.\n",
      "\n",
      "Fact 18: Trading volume for both consumer and institutional users fell quarter-over-quarter for Coinbase.\n",
      "True.\n",
      "\"\"\"\n",
      "\n",
      "Original Summary:\n",
      "\"\"\"\n",
      "Coinbase, the second-largest crypto exchange by trading volume, released its Q4 2022 earnings on Tuesday, giving shareholders and market players alike an updated look into its financials. In response to the report, the company's shares are down modestly in early after-hours trading.In the fourth quarter of 2022, Coinbase generated $605 million in total revenue, down sharply from $2.49 billion in the year-ago quarter. Coinbase's top line was not enough to cover its expenses: The company lost $557 million in the three-month period on a GAAP basis (net income) worth -$2.46 per share, and an adjusted EBITDA deficit of $124 million.Wall Street expected Coinbase to report $581.2 million in revenue and earnings per share of -$2.44 with adjusted EBITDA of -$201.8 million driven by 8.4 million monthly transaction users (MTUs), according to data provided by Yahoo Finance.Before its Q4 earnings were released, Coinbase's stock had risen 86% year-to-date. Even with that rally, the value of Coinbase when measured on a per-share basis is still down significantly from its 52-week high of $206.79.That Coinbase beat revenue expectations is notable in that it came with declines in trading volume; Coinbase historically generated the bulk of its revenues from trading fees, making Q4 2022 notable. Consumer trading volumes fell from $26 billion in the third quarter of last year to $20 billion in Q4, while institutional volumes across the same timeframe fell from $133 billion to $125 billion.The overall crypto market capitalization fell about 64%, or $1.5 trillion during 2022, which resulted in Coinbase's total trading volumes and transaction revenues to fall 50% and 66% year-over-year, respectively, the company reported.As you would expect with declines in trading volume, trading revenue at Coinbase fell in Q4 compared to the third quarter of last year, dipping from $365.9 million to $322.1 million. (TechCrunch is comparing Coinbase's Q4 2022 results to Q3 2022 instead of Q4 2021, as the latter comparison would be less useful given how much the crypto market has changed in the last year; we're all aware that overall crypto activity has fallen from the final months of 2021.)There were bits of good news in the Coinbase report. While Coinbase's trading revenues were less than exuberant, the company's other revenues posted gains. What Coinbase calls its \"subscription and services revenue\" rose from $210.5 million in Q3 2022 to $282.8 million in Q4 of the same year, a gain of just over 34% in a single quarter.And even as the crypto industry faced a number of catastrophic events, including the Terra/LUNA and FTX collapses to name a few, there was still growth in other areas. The monthly active developers in crypto have more than doubled since 2020 to over 20,000, while major brands like Starbucks, Nike and Adidas have dived into the space alongside social media platforms like Instagram and Reddit.With big players getting into crypto, industry players are hoping this move results in greater adoption both for product use cases and trading volumes. Although there was a lot of movement from traditional retail markets and Web 2.0 businesses, trading volume for both consumer and institutional users fell quarter-over-quarter for Coinbase.Looking forward, it'll be interesting to see if these pieces pick back up and trading interest reemerges in 2023, or if platforms like Coinbase will have to keep looking elsewhere for revenue (like its subscription service) if users continue to shy away from the market.\n",
      "\n",
      "\"\"\"\n",
      "\n",
      "Using these checked assertions, rewrite the original summary to be completely true.\n",
      "\n",
      "The output should have the same structure and formatting as the original summary.\n",
      "\n",
      "Summary:\u001b[0m\n",
      "\n",
      "\u001b[1m> Finished chain.\u001b[0m\n",
      "\n",
      "\n",
      "\u001b[1m> Entering new LLMChain chain...\u001b[0m\n",
      "Prompt after formatting:\n",
      "\u001b[32;1m\u001b[1;3mBelow are some assertions that have been fact checked and are labeled as true or false.\n",
      "\n",
      "If all of the assertions are true, return \"True\". If any of the assertions are false, return \"False\".\n",
      "\n",
      "Here are some examples:\n",
      "===\n",
      "\n",
      "Checked Assertions: \"\"\"\n",
      "- The sky is red: False\n",
      "- Water is made of lava: False\n",
      "- The sun is a star: True\n",
      "\"\"\"\n",
      "Result: False\n",
      "\n",
      "===\n",
      "\n",
      "Checked Assertions: \"\"\"\n",
      "- The sky is blue: True\n",
      "- Water is wet: True\n",
      "- The sun is a star: True\n",
      "\"\"\"\n",
      "Result: True\n",
      "\n",
      "===\n",
      "\n",
      "Checked Assertions: \"\"\"\n",
      "- The sky is blue - True\n",
      "- Water is made of lava- False\n",
      "- The sun is a star - True\n",
      "\"\"\"\n",
      "Result: False\n",
      "\n",
      "===\n",
      "\n",
      "Checked Assertions:\"\"\"\n",
      "Fact 1: Coinbase released its Q4 2022 earnings on Tuesday.\n",
      "True.\n",
      "\n",
      "Fact 2: Coinbase generated $605 million in total revenue in Q4 2022.\n",
      "True.\n",
      "\n",
      "Fact 3: Coinbase's revenue was down sharply from $2.49 billion in the year-ago quarter.\n",
      "True.\n",
      "\n",
      "Fact 4: Coinbase lost $557 million in the three-month period on a GAAP basis.\n",
      "True.\n",
      "\n",
      "Fact 5: Coinbase had an adjusted EBITDA deficit of $124 million.\n",
      "True.\n",
      "\n",
      "Fact 6: Wall Street expected Coinbase to report $581.2 million in revenue and earnings per share of -$2.44 with adjusted EBITDA of -$201.8 million.\n",
      "True.\n",
      "\n",
      "Fact 7: Coinbase's stock had risen 86% year-to-date before the Q4 earnings release.\n",
      "Undetermined. The fact does not provide enough information to determine its truthfulness.\n",
      "\n",
      "Fact 8: Coinbase's stock value is still down significantly from its 52-week high of $206.79.\n",
      "True.\n",
      "\n",
      "Fact 9: Coinbase beat revenue expectations despite declines in trading volume.\n",
      "True.\n",
      "\n",
      "Fact 10: Consumer trading volumes fell from $26 billion in Q3 2022 to $20 billion in Q4 2022.\n",
      "True.\n",
      "\n",
      "Fact 11: Institutional trading volumes fell from $133 billion to $125 billion in the same timeframe.\n",
      "True.\n",
      "\n",
      "Fact 12: The overall crypto market capitalization fell about 64% during 2022.\n",
      "True.\n",
      "\n",
      "Fact 13: Coinbase's total trading volumes and transaction revenues fell 50% and 66% year-over-year, respectively.\n",
      "True.\n",
      "\n",
      "Fact 14: Trading revenue at Coinbase fell from $365.9 million in Q3 2022 to $322.1 million in Q4 2022.\n",
      "True.\n",
      "\n",
      "Fact 15: Coinbase's \"subscription and services revenue\" rose from $210.5 million in Q3 2022 to $282.8 million in Q4 2022.\n",
      "True.\n",
      "\n",
      "Fact 16: The monthly active developers in crypto have more than doubled since 2020 to over 20,000.\n",
      "True.\n",
      "\n",
      "Fact 17: Major brands like Starbucks, Nike, and Adidas have entered the crypto space.\n",
      "True.\n",
      "\n",
      "Fact 18: Trading volume for both consumer and institutional users fell quarter-over-quarter for Coinbase.\n",
      "True.\n",
      "\"\"\"\n",
      "Result:\u001b[0m\n",
      "\n",
      "\u001b[1m> Finished chain.\u001b[0m\n",
      "\n",
      "\u001b[1m> Finished chain.\u001b[0m\n",
      "Coinbase, the second-largest crypto exchange by trading volume, released its Q4 2022 earnings on Tuesday, giving shareholders and market players alike an updated look into its financials. In the fourth quarter of 2022, Coinbase generated $605 million in total revenue, down sharply from $2.49 billion in the year-ago quarter. Coinbase's top line was not enough to cover its expenses: The company lost $557 million in the three-month period on a GAAP basis (net income) worth -$2.46 per share, and an adjusted EBITDA deficit of $124 million. Wall Street expected Coinbase to report $581.2 million in revenue and earnings per share of -$2.44 with adjusted EBITDA of -$201.8 million driven by 8.4 million monthly transaction users (MTUs), according to data provided by Yahoo Finance. Before its Q4 earnings were released, Coinbase's stock had risen 86% year-to-date. Even with that rally, the value of Coinbase when measured on a per-share basis is still down significantly from its 52-week high of $206.79. That Coinbase beat revenue expectations is notable in that it came with declines in trading volume; Coinbase historically generated the bulk of its revenues from trading fees, making Q4 2022 notable. Consumer trading volumes fell from $26 billion in the third quarter of last year to $20 billion in Q4, while institutional volumes across the same timeframe fell from $133 billion to $125 billion. The overall crypto market capitalization fell about 64%, or $1.5 trillion during 2022, which resulted in Coinbase's total trading volumes and transaction revenues to fall 50% and 66% year-over-year, respectively, the company reported. As you would expect with declines in trading volume, trading revenue at Coinbase fell in Q4 compared to the third quarter of last year, dipping from $365.9 million to $322.1 million. (TechCrunch is comparing Coinbase's Q4 2022 results to Q3 2022 instead of Q4 2021, as the latter comparison would be less useful given how much the crypto market has changed in the last year; we're all aware that overall crypto activity has fallen from the final months of 2021.) There were bits of good news in the Coinbase report. While Coinbase's trading revenues were less than exuberant, the company's other revenues posted gains. What Coinbase calls its \"subscription and services revenue\" rose from $210.5 million in Q3 2022 to $282.8 million in Q4 of the same year, a gain of just over 34% in a single quarter. And even as the crypto industry faced a number of catastrophic events, including the Terra/LUNA and FTX collapses to name a few, there was still growth in other areas. The monthly active developers in crypto have more than doubled since 2020 to over 20,000, while major brands like Starbucks, Nike and Adidas have dived into the space alongside social media platforms like Instagram and Reddit. With big players getting into crypto, industry players are hoping this move results in greater adoption both for product use cases and trading volumes. Although there was a lot of movement from traditional retail markets and Web 2.0 businesses, trading volume for both consumer and institutional users fell quarter-over-quarter for Coinbase. Looking forward, it'll be interesting to see if these pieces pick back up and trading interest reemerges in 2023, or if platforms like Coinbase will have to keep looking elsewhere for revenue (like its subscription service) if users continue to shy away from the market.\n",
      "\n",
      "\n",
      "\u001b[1m> Entering new SequentialChain chain...\u001b[0m\n",
      "\n",
      "\n",
      "\u001b[1m> Entering new LLMChain chain...\u001b[0m\n",
      "Prompt after formatting:\n",
      "\u001b[32;1m\u001b[1;3mGiven some text, extract a list of facts from the text.\n",
      "\n",
      "Format your output as a bulleted list.\n",
      "\n",
      "Text:\n",
      "\"\"\"\n",
      "Coinbase, the second-largest crypto exchange by trading volume, released its Q4 2022 earnings on Tuesday, giving shareholders and market players alike an updated look into its financials. In the fourth quarter of 2022, Coinbase generated $605 million in total revenue, down sharply from $2.49 billion in the year-ago quarter. Coinbase's top line was not enough to cover its expenses: The company lost $557 million in the three-month period on a GAAP basis (net income) worth -$2.46 per share, and an adjusted EBITDA deficit of $124 million. Wall Street expected Coinbase to report $581.2 million in revenue and earnings per share of -$2.44 with adjusted EBITDA of -$201.8 million driven by 8.4 million monthly transaction users (MTUs), according to data provided by Yahoo Finance. Before its Q4 earnings were released, Coinbase's stock had risen 86% year-to-date. Even with that rally, the value of Coinbase when measured on a per-share basis is still down significantly from its 52-week high of $206.79. That Coinbase beat revenue expectations is notable in that it came with declines in trading volume; Coinbase historically generated the bulk of its revenues from trading fees, making Q4 2022 notable. Consumer trading volumes fell from $26 billion in the third quarter of last year to $20 billion in Q4, while institutional volumes across the same timeframe fell from $133 billion to $125 billion. The overall crypto market capitalization fell about 64%, or $1.5 trillion during 2022, which resulted in Coinbase's total trading volumes and transaction revenues to fall 50% and 66% year-over-year, respectively, the company reported. As you would expect with declines in trading volume, trading revenue at Coinbase fell in Q4 compared to the third quarter of last year, dipping from $365.9 million to $322.1 million. (TechCrunch is comparing Coinbase's Q4 2022 results to Q3 2022 instead of Q4 2021, as the latter comparison would be less useful given how much the crypto market has changed in the last year; we're all aware that overall crypto activity has fallen from the final months of 2021.) There were bits of good news in the Coinbase report. While Coinbase's trading revenues were less than exuberant, the company's other revenues posted gains. What Coinbase calls its \"subscription and services revenue\" rose from $210.5 million in Q3 2022 to $282.8 million in Q4 of the same year, a gain of just over 34% in a single quarter. And even as the crypto industry faced a number of catastrophic events, including the Terra/LUNA and FTX collapses to name a few, there was still growth in other areas. The monthly active developers in crypto have more than doubled since 2020 to over 20,000, while major brands like Starbucks, Nike and Adidas have dived into the space alongside social media platforms like Instagram and Reddit. With big players getting into crypto, industry players are hoping this move results in greater adoption both for product use cases and trading volumes. Although there was a lot of movement from traditional retail markets and Web 2.0 businesses, trading volume for both consumer and institutional users fell quarter-over-quarter for Coinbase. Looking forward, it'll be interesting to see if these pieces pick back up and trading interest reemerges in 2023, or if platforms like Coinbase will have to keep looking elsewhere for revenue (like its subscription service) if users continue to shy away from the market.\n",
      "\"\"\"\n",
      "\n",
      "Facts:\u001b[0m\n",
      "\n",
      "\u001b[1m> Finished chain.\u001b[0m\n",
      "\n",
      "\n",
      "\u001b[1m> Entering new LLMChain chain...\u001b[0m\n",
      "Prompt after formatting:\n",
      "\u001b[32;1m\u001b[1;3mYou are an expert fact checker. You have been hired by a major news organization to fact check a very important story.\n",
      "\n",
      "Here is a bullet point list of facts:\n",
      "\"\"\"\n",
      "- Coinbase released its Q4 2022 earnings, reporting $605 million in total revenue.\n",
      "- Coinbase's revenue in Q4 2022 was significantly lower than the year-ago quarter.\n",
      "- Coinbase incurred a net loss of $557 million in the three-month period.\n",
      "- Wall Street expected Coinbase to report $581.2 million in revenue and earnings per share of -$2.44.\n",
      "- Coinbase's stock had risen 86% year-to-date before the Q4 earnings release.\n",
      "- Coinbase's stock value is still down significantly from its 52-week high of $206.79.\n",
      "- Consumer trading volumes fell from $26 billion in Q3 2022 to $20 billion in Q4 2022.\n",
      "- Institutional trading volumes fell from $133 billion to $125 billion during the same timeframe.\n",
      "- The overall crypto market capitalization fell about 64% or $1.5 trillion in 2022.\n",
      "- Coinbase's total trading volumes and transaction revenues fell 50% and 66% year-over-year, respectively.\n",
      "- Trading revenue at Coinbase fell from $365.9 million in Q3 2022 to $322.1 million in Q4 2022.\n",
      "- Coinbase's \"subscription and services revenue\" rose from $210.5 million in Q3 2022 to $282.8 million in Q4 2022.\n",
      "- The monthly active developers in crypto have more than doubled since 2020 to over 20,000.\n",
      "- Major brands like Starbucks, Nike, and Adidas have entered the crypto space.\n",
      "- Trading volume for both consumer and institutional users fell quarter-over-quarter for Coinbase.\n",
      "\"\"\"\n",
      "\n",
      "For each fact, determine whether it is true or false about the subject. If you are unable to determine whether the fact is true or false, output \"Undetermined\".\n",
      "If the fact is false, explain why.\n",
      "\n",
      "\u001b[0m\n",
      "\n",
      "\u001b[1m> Finished chain.\u001b[0m\n",
      "\n",
      "\n",
      "\u001b[1m> Entering new LLMChain chain...\u001b[0m\n",
      "Prompt after formatting:\n",
      "\u001b[32;1m\u001b[1;3mBelow are some assertions that have been fact checked and are labeled as true or false. If the answer is false, a suggestion is given for a correction.\n",
      "\n",
      "Checked Assertions:\n",
      "\"\"\"\n",
      "Fact 1: Coinbase released its Q4 2022 earnings, reporting $605 million in total revenue.\n",
      "True.\n",
      "\n",
      "Fact 2: Coinbase's revenue in Q4 2022 was significantly lower than the year-ago quarter.\n",
      "True.\n",
      "\n",
      "Fact 3: Coinbase incurred a net loss of $557 million in the three-month period.\n",
      "True.\n",
      "\n",
      "Fact 4: Wall Street expected Coinbase to report $581.2 million in revenue and earnings per share of -$2.44.\n",
      "True.\n",
      "\n",
      "Fact 5: Coinbase's stock had risen 86% year-to-date before the Q4 earnings release.\n",
      "Undetermined. The fact does not provide enough information to determine its truthfulness.\n",
      "\n",
      "Fact 6: Coinbase's stock value is still down significantly from its 52-week high of $206.79.\n",
      "True.\n",
      "\n",
      "Fact 7: Consumer trading volumes fell from $26 billion in Q3 2022 to $20 billion in Q4 2022.\n",
      "True.\n",
      "\n",
      "Fact 8: Institutional trading volumes fell from $133 billion to $125 billion during the same timeframe.\n",
      "True.\n",
      "\n",
      "Fact 9: The overall crypto market capitalization fell about 64% or $1.5 trillion in 2022.\n",
      "True.\n",
      "\n",
      "Fact 10: Coinbase's total trading volumes and transaction revenues fell 50% and 66% year-over-year, respectively.\n",
      "True.\n",
      "\n",
      "Fact 11: Trading revenue at Coinbase fell from $365.9 million in Q3 2022 to $322.1 million in Q4 2022.\n",
      "True.\n",
      "\n",
      "Fact 12: Coinbase's \"subscription and services revenue\" rose from $210.5 million in Q3 2022 to $282.8 million in Q4 2022.\n",
      "True.\n",
      "\n",
      "Fact 13: The monthly active developers in crypto have more than doubled since 2020 to over 20,000.\n",
      "True.\n",
      "\n",
      "Fact 14: Major brands like Starbucks, Nike, and Adidas have entered the crypto space.\n",
      "True.\n",
      "\n",
      "Fact 15: Trading volume for both consumer and institutional users fell quarter-over-quarter for Coinbase.\n",
      "True.\n",
      "\"\"\"\n",
      "\n",
      "Original Summary:\n",
      "\"\"\"\n",
      "Coinbase, the second-largest crypto exchange by trading volume, released its Q4 2022 earnings on Tuesday, giving shareholders and market players alike an updated look into its financials. In the fourth quarter of 2022, Coinbase generated $605 million in total revenue, down sharply from $2.49 billion in the year-ago quarter. Coinbase's top line was not enough to cover its expenses: The company lost $557 million in the three-month period on a GAAP basis (net income) worth -$2.46 per share, and an adjusted EBITDA deficit of $124 million. Wall Street expected Coinbase to report $581.2 million in revenue and earnings per share of -$2.44 with adjusted EBITDA of -$201.8 million driven by 8.4 million monthly transaction users (MTUs), according to data provided by Yahoo Finance. Before its Q4 earnings were released, Coinbase's stock had risen 86% year-to-date. Even with that rally, the value of Coinbase when measured on a per-share basis is still down significantly from its 52-week high of $206.79. That Coinbase beat revenue expectations is notable in that it came with declines in trading volume; Coinbase historically generated the bulk of its revenues from trading fees, making Q4 2022 notable. Consumer trading volumes fell from $26 billion in the third quarter of last year to $20 billion in Q4, while institutional volumes across the same timeframe fell from $133 billion to $125 billion. The overall crypto market capitalization fell about 64%, or $1.5 trillion during 2022, which resulted in Coinbase's total trading volumes and transaction revenues to fall 50% and 66% year-over-year, respectively, the company reported. As you would expect with declines in trading volume, trading revenue at Coinbase fell in Q4 compared to the third quarter of last year, dipping from $365.9 million to $322.1 million. (TechCrunch is comparing Coinbase's Q4 2022 results to Q3 2022 instead of Q4 2021, as the latter comparison would be less useful given how much the crypto market has changed in the last year; we're all aware that overall crypto activity has fallen from the final months of 2021.) There were bits of good news in the Coinbase report. While Coinbase's trading revenues were less than exuberant, the company's other revenues posted gains. What Coinbase calls its \"subscription and services revenue\" rose from $210.5 million in Q3 2022 to $282.8 million in Q4 of the same year, a gain of just over 34% in a single quarter. And even as the crypto industry faced a number of catastrophic events, including the Terra/LUNA and FTX collapses to name a few, there was still growth in other areas. The monthly active developers in crypto have more than doubled since 2020 to over 20,000, while major brands like Starbucks, Nike and Adidas have dived into the space alongside social media platforms like Instagram and Reddit. With big players getting into crypto, industry players are hoping this move results in greater adoption both for product use cases and trading volumes. Although there was a lot of movement from traditional retail markets and Web 2.0 businesses, trading volume for both consumer and institutional users fell quarter-over-quarter for Coinbase. Looking forward, it'll be interesting to see if these pieces pick back up and trading interest reemerges in 2023, or if platforms like Coinbase will have to keep looking elsewhere for revenue (like its subscription service) if users continue to shy away from the market.\n",
      "\"\"\"\n",
      "\n",
      "Using these checked assertions, rewrite the original summary to be completely true.\n",
      "\n",
      "The output should have the same structure and formatting as the original summary.\n",
      "\n",
      "Summary:\u001b[0m\n",
      "\n",
      "\u001b[1m> Finished chain.\u001b[0m\n",
      "\n",
      "\n",
      "\u001b[1m> Entering new LLMChain chain...\u001b[0m\n",
      "Prompt after formatting:\n",
      "\u001b[32;1m\u001b[1;3mBelow are some assertions that have been fact checked and are labeled as true or false.\n",
      "\n",
      "If all of the assertions are true, return \"True\". If any of the assertions are false, return \"False\".\n",
      "\n",
      "Here are some examples:\n",
      "===\n",
      "\n",
      "Checked Assertions: \"\"\"\n",
      "- The sky is red: False\n",
      "- Water is made of lava: False\n",
      "- The sun is a star: True\n",
      "\"\"\"\n",
      "Result: False\n",
      "\n",
      "===\n",
      "\n",
      "Checked Assertions: \"\"\"\n",
      "- The sky is blue: True\n",
      "- Water is wet: True\n",
      "- The sun is a star: True\n",
      "\"\"\"\n",
      "Result: True\n",
      "\n",
      "===\n",
      "\n",
      "Checked Assertions: \"\"\"\n",
      "- The sky is blue - True\n",
      "- Water is made of lava- False\n",
      "- The sun is a star - True\n",
      "\"\"\"\n",
      "Result: False\n",
      "\n",
      "===\n",
      "\n",
      "Checked Assertions:\"\"\"\n",
      "Fact 1: Coinbase released its Q4 2022 earnings, reporting $605 million in total revenue.\n",
      "True.\n",
      "\n",
      "Fact 2: Coinbase's revenue in Q4 2022 was significantly lower than the year-ago quarter.\n",
      "True.\n",
      "\n",
      "Fact 3: Coinbase incurred a net loss of $557 million in the three-month period.\n",
      "True.\n",
      "\n",
      "Fact 4: Wall Street expected Coinbase to report $581.2 million in revenue and earnings per share of -$2.44.\n",
      "True.\n",
      "\n",
      "Fact 5: Coinbase's stock had risen 86% year-to-date before the Q4 earnings release.\n",
      "Undetermined. The fact does not provide enough information to determine its truthfulness.\n",
      "\n",
      "Fact 6: Coinbase's stock value is still down significantly from its 52-week high of $206.79.\n",
      "True.\n",
      "\n",
      "Fact 7: Consumer trading volumes fell from $26 billion in Q3 2022 to $20 billion in Q4 2022.\n",
      "True.\n",
      "\n",
      "Fact 8: Institutional trading volumes fell from $133 billion to $125 billion during the same timeframe.\n",
      "True.\n",
      "\n",
      "Fact 9: The overall crypto market capitalization fell about 64% or $1.5 trillion in 2022.\n",
      "True.\n",
      "\n",
      "Fact 10: Coinbase's total trading volumes and transaction revenues fell 50% and 66% year-over-year, respectively.\n",
      "True.\n",
      "\n",
      "Fact 11: Trading revenue at Coinbase fell from $365.9 million in Q3 2022 to $322.1 million in Q4 2022.\n",
      "True.\n",
      "\n",
      "Fact 12: Coinbase's \"subscription and services revenue\" rose from $210.5 million in Q3 2022 to $282.8 million in Q4 2022.\n",
      "True.\n",
      "\n",
      "Fact 13: The monthly active developers in crypto have more than doubled since 2020 to over 20,000.\n",
      "True.\n",
      "\n",
      "Fact 14: Major brands like Starbucks, Nike, and Adidas have entered the crypto space.\n",
      "True.\n",
      "\n",
      "Fact 15: Trading volume for both consumer and institutional users fell quarter-over-quarter for Coinbase.\n",
      "True.\n",
      "\"\"\"\n",
      "Result:\u001b[0m\n",
      "\n",
      "\u001b[1m> Finished chain.\u001b[0m\n",
      "\n",
      "\u001b[1m> Finished chain.\u001b[0m\n",
      "\n",
      "\u001b[1m> Finished chain.\u001b[0m\n"
     ]
    },
    {
     "data": {
      "text/plain": [
       "'Coinbase, the second-largest crypto exchange by trading volume, released its Q4 2022 earnings on Tuesday, giving shareholders and market players alike an updated look into its financials. In the fourth quarter of 2022, Coinbase generated $605 million in total revenue, down sharply from $2.49 billion in the year-ago quarter. Coinbase\\'s top line was not enough to cover its expenses: The company lost $557 million in the three-month period on a GAAP basis (net income) worth -$2.46 per share, and an adjusted EBITDA deficit of $124 million. Wall Street expected Coinbase to report $581.2 million in revenue and earnings per share of -$2.44 with adjusted EBITDA of -$201.8 million driven by 8.4 million monthly transaction users (MTUs), according to data provided by Yahoo Finance. Before its Q4 earnings were released, Coinbase\\'s stock had risen 86% year-to-date. Even with that rally, the value of Coinbase when measured on a per-share basis is still down significantly from its 52-week high of $206.79. That Coinbase beat revenue expectations is notable in that it came with declines in trading volume; Coinbase historically generated the bulk of its revenues from trading fees, making Q4 2022 notable. Consumer trading volumes fell from $26 billion in the third quarter of last year to $20 billion in Q4, while institutional volumes across the same timeframe fell from $133 billion to $125 billion. The overall crypto market capitalization fell about 64%, or $1.5 trillion during 2022, which resulted in Coinbase\\'s total trading volumes and transaction revenues to fall 50% and 66% year-over-year, respectively, the company reported. As you would expect with declines in trading volume, trading revenue at Coinbase fell in Q4 compared to the third quarter of last year, dipping from $365.9 million to $322.1 million. (TechCrunch is comparing Coinbase\\'s Q4 2022 results to Q3 2022 instead of Q4 2021, as the latter comparison would be less useful given how much the crypto market has changed in the last year; we\\'re all aware that overall crypto activity has fallen from the final months of 2021.) There were bits of good news in the Coinbase report. While Coinbase\\'s trading revenues were less than exuberant, the company\\'s other revenues posted gains. What Coinbase calls its \"subscription and services revenue\" rose from $210.5 million in Q3 2022 to $282.8 million in Q4 of the same year, a gain of just over 34% in a single quarter. And even as the crypto industry faced a number of catastrophic events, including the Terra/LUNA and FTX collapses to name a few, there was still growth in other areas. The monthly active developers in crypto have more than doubled since 2020 to over 20,000, while major brands like Starbucks, Nike and Adidas have dived into the space alongside social media platforms like Instagram and Reddit. With big players getting into crypto, industry players are hoping this move results in greater adoption both for product use cases and trading volumes. Although there was a lot of movement from traditional retail markets and Web 2.0 businesses, trading volume for both consumer and institutional users fell quarter-over-quarter for Coinbase. Looking forward, it\\'ll be interesting to see if these pieces pick back up and trading interest reemerges in 2023, or if platforms like Coinbase will have to keep looking elsewhere for revenue (like its subscription service) if users continue to shy away from the market.'"
      ]
     },
     "execution_count": 34,
     "metadata": {},
     "output_type": "execute_result"
    }
   ],
   "source": [
    "from langchain.chains import LLMSummarizationCheckerChain\n",
    "\n",
    "llm_fact = ChatOpenAI(\n",
    "                openai_api_key=os.environ[\"OPENAI_API_KEY\"],\n",
    "                engine = os.environ[\"ENGINE\"],\n",
    "                model='gpt-3.5-turbo',\n",
    "                temperature=0.0 # make sure temperature is 0.0\n",
    "                )\n",
    "\n",
    "checker_chain = LLMSummarizationCheckerChain(\n",
    "                                            llm=llm_fact, \n",
    "                                            verbose=True, \n",
    "                                            max_checks=2\n",
    "                                            )\n",
    "\n",
    "final_summary = checker_chain.run(article)\n",
    "final_summary"
   ]
  },
  {
   "cell_type": "code",
   "execution_count": null,
   "metadata": {},
   "outputs": [],
   "source": []
  }
 ],
 "metadata": {
  "kernelspec": {
   "display_name": "Python 3",
   "language": "python",
   "name": "python3"
  },
  "language_info": {
   "codemirror_mode": {
    "name": "ipython",
    "version": 3
   },
   "file_extension": ".py",
   "mimetype": "text/x-python",
   "name": "python",
   "nbconvert_exporter": "python",
   "pygments_lexer": "ipython3",
   "version": "3.10.13"
  },
  "orig_nbformat": 4
 },
 "nbformat": 4,
 "nbformat_minor": 2
}
