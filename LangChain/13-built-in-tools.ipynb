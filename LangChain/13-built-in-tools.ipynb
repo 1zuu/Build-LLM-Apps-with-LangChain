{
 "cells": [
  {
   "cell_type": "code",
   "execution_count": 8,
   "metadata": {},
   "outputs": [
    {
     "name": "stdout",
     "output_type": "stream",
     "text": [
      "Requirement already satisfied: wikipedia in /Users/1zuu/anaconda3/envs/llm/lib/python3.10/site-packages (1.4.0)\n",
      "Requirement already satisfied: beautifulsoup4 in /Users/1zuu/anaconda3/envs/llm/lib/python3.10/site-packages (from wikipedia) (4.12.2)\n",
      "Requirement already satisfied: requests<3.0.0,>=2.0.0 in /Users/1zuu/anaconda3/envs/llm/lib/python3.10/site-packages (from wikipedia) (2.31.0)\n",
      "Requirement already satisfied: charset-normalizer<4,>=2 in /Users/1zuu/anaconda3/envs/llm/lib/python3.10/site-packages (from requests<3.0.0,>=2.0.0->wikipedia) (3.2.0)\n",
      "Requirement already satisfied: idna<4,>=2.5 in /Users/1zuu/anaconda3/envs/llm/lib/python3.10/site-packages (from requests<3.0.0,>=2.0.0->wikipedia) (3.4)\n",
      "Requirement already satisfied: urllib3<3,>=1.21.1 in /Users/1zuu/anaconda3/envs/llm/lib/python3.10/site-packages (from requests<3.0.0,>=2.0.0->wikipedia) (1.26.16)\n",
      "Requirement already satisfied: certifi>=2017.4.17 in /Users/1zuu/anaconda3/envs/llm/lib/python3.10/site-packages (from requests<3.0.0,>=2.0.0->wikipedia) (2023.7.22)\n",
      "Requirement already satisfied: soupsieve>1.2 in /Users/1zuu/anaconda3/envs/llm/lib/python3.10/site-packages (from beautifulsoup4->wikipedia) (2.5)\n",
      "Requirement already satisfied: langchain in /Users/1zuu/anaconda3/envs/llm/lib/python3.10/site-packages (0.0.150)\n",
      "Collecting langchain\n",
      "  Obtaining dependency information for langchain from https://files.pythonhosted.org/packages/65/f4/dea10c11f0c2ebca298ba57f546940f8944e49c624239183c924ae0e1f81/langchain-0.0.339-py3-none-any.whl.metadata\n",
      "  Downloading langchain-0.0.339-py3-none-any.whl.metadata (16 kB)\n",
      "Requirement already satisfied: PyYAML>=5.3 in /Users/1zuu/anaconda3/envs/llm/lib/python3.10/site-packages (from langchain) (6.0.1)\n",
      "Requirement already satisfied: SQLAlchemy<3,>=1.4 in /Users/1zuu/anaconda3/envs/llm/lib/python3.10/site-packages (from langchain) (2.0.21)\n",
      "Requirement already satisfied: aiohttp<4.0.0,>=3.8.3 in /Users/1zuu/anaconda3/envs/llm/lib/python3.10/site-packages (from langchain) (3.8.5)\n",
      "Requirement already satisfied: anyio<4.0 in /Users/1zuu/anaconda3/envs/llm/lib/python3.10/site-packages (from langchain) (3.7.1)\n",
      "Requirement already satisfied: async-timeout<5.0.0,>=4.0.0 in /Users/1zuu/anaconda3/envs/llm/lib/python3.10/site-packages (from langchain) (4.0.3)\n",
      "Requirement already satisfied: dataclasses-json<0.7,>=0.5.7 in /Users/1zuu/anaconda3/envs/llm/lib/python3.10/site-packages (from langchain) (0.5.14)\n",
      "Requirement already satisfied: jsonpatch<2.0,>=1.33 in /Users/1zuu/anaconda3/envs/llm/lib/python3.10/site-packages (from langchain) (1.33)\n",
      "Requirement already satisfied: langsmith<0.1.0,>=0.0.63 in /Users/1zuu/anaconda3/envs/llm/lib/python3.10/site-packages (from langchain) (0.0.63)\n",
      "Requirement already satisfied: numpy<2,>=1 in /Users/1zuu/anaconda3/envs/llm/lib/python3.10/site-packages (from langchain) (1.25.2)\n",
      "Requirement already satisfied: pydantic<3,>=1 in /Users/1zuu/anaconda3/envs/llm/lib/python3.10/site-packages (from langchain) (1.10.9)\n",
      "Requirement already satisfied: requests<3,>=2 in /Users/1zuu/anaconda3/envs/llm/lib/python3.10/site-packages (from langchain) (2.31.0)\n",
      "Requirement already satisfied: tenacity<9.0.0,>=8.1.0 in /Users/1zuu/anaconda3/envs/llm/lib/python3.10/site-packages (from langchain) (8.2.3)\n",
      "Requirement already satisfied: attrs>=17.3.0 in /Users/1zuu/anaconda3/envs/llm/lib/python3.10/site-packages (from aiohttp<4.0.0,>=3.8.3->langchain) (23.1.0)\n",
      "Requirement already satisfied: charset-normalizer<4.0,>=2.0 in /Users/1zuu/anaconda3/envs/llm/lib/python3.10/site-packages (from aiohttp<4.0.0,>=3.8.3->langchain) (3.2.0)\n",
      "Requirement already satisfied: multidict<7.0,>=4.5 in /Users/1zuu/anaconda3/envs/llm/lib/python3.10/site-packages (from aiohttp<4.0.0,>=3.8.3->langchain) (6.0.4)\n",
      "Requirement already satisfied: yarl<2.0,>=1.0 in /Users/1zuu/anaconda3/envs/llm/lib/python3.10/site-packages (from aiohttp<4.0.0,>=3.8.3->langchain) (1.9.2)\n",
      "Requirement already satisfied: frozenlist>=1.1.1 in /Users/1zuu/anaconda3/envs/llm/lib/python3.10/site-packages (from aiohttp<4.0.0,>=3.8.3->langchain) (1.4.0)\n",
      "Requirement already satisfied: aiosignal>=1.1.2 in /Users/1zuu/anaconda3/envs/llm/lib/python3.10/site-packages (from aiohttp<4.0.0,>=3.8.3->langchain) (1.3.1)\n",
      "Requirement already satisfied: idna>=2.8 in /Users/1zuu/anaconda3/envs/llm/lib/python3.10/site-packages (from anyio<4.0->langchain) (3.4)\n",
      "Requirement already satisfied: sniffio>=1.1 in /Users/1zuu/anaconda3/envs/llm/lib/python3.10/site-packages (from anyio<4.0->langchain) (1.3.0)\n",
      "Requirement already satisfied: exceptiongroup in /Users/1zuu/anaconda3/envs/llm/lib/python3.10/site-packages (from anyio<4.0->langchain) (1.0.4)\n",
      "Requirement already satisfied: marshmallow<4.0.0,>=3.18.0 in /Users/1zuu/anaconda3/envs/llm/lib/python3.10/site-packages (from dataclasses-json<0.7,>=0.5.7->langchain) (3.20.1)\n",
      "Requirement already satisfied: typing-inspect<1,>=0.4.0 in /Users/1zuu/anaconda3/envs/llm/lib/python3.10/site-packages (from dataclasses-json<0.7,>=0.5.7->langchain) (0.9.0)\n",
      "Requirement already satisfied: jsonpointer>=1.9 in /Users/1zuu/anaconda3/envs/llm/lib/python3.10/site-packages (from jsonpatch<2.0,>=1.33->langchain) (2.4)\n",
      "Requirement already satisfied: typing-extensions>=4.2.0 in /Users/1zuu/anaconda3/envs/llm/lib/python3.10/site-packages (from pydantic<3,>=1->langchain) (4.8.0)\n",
      "Requirement already satisfied: urllib3<3,>=1.21.1 in /Users/1zuu/anaconda3/envs/llm/lib/python3.10/site-packages (from requests<3,>=2->langchain) (1.26.16)\n",
      "Requirement already satisfied: certifi>=2017.4.17 in /Users/1zuu/anaconda3/envs/llm/lib/python3.10/site-packages (from requests<3,>=2->langchain) (2023.7.22)\n",
      "Requirement already satisfied: packaging>=17.0 in /Users/1zuu/anaconda3/envs/llm/lib/python3.10/site-packages (from marshmallow<4.0.0,>=3.18.0->dataclasses-json<0.7,>=0.5.7->langchain) (23.1)\n",
      "Requirement already satisfied: mypy-extensions>=0.3.0 in /Users/1zuu/anaconda3/envs/llm/lib/python3.10/site-packages (from typing-inspect<1,>=0.4.0->dataclasses-json<0.7,>=0.5.7->langchain) (1.0.0)\n",
      "Downloading langchain-0.0.339-py3-none-any.whl (2.0 MB)\n",
      "\u001b[2K   \u001b[90m━━━━━━━━━━━━━━━━━━━━━━━━━━━━━━━━━━━━━━━━\u001b[0m \u001b[32m2.0/2.0 MB\u001b[0m \u001b[31m4.9 MB/s\u001b[0m eta \u001b[36m0:00:00\u001b[0ma \u001b[36m0:00:01\u001b[0m0m\n",
      "\u001b[?25hInstalling collected packages: langchain\n",
      "  Attempting uninstall: langchain\n",
      "    Found existing installation: langchain 0.0.150\n",
      "    Uninstalling langchain-0.0.150:\n",
      "      Successfully uninstalled langchain-0.0.150\n",
      "\u001b[31mERROR: pip's dependency resolver does not currently take into account all the packages that are installed. This behaviour is the source of the following dependency conflicts.\n",
      "llama-index 0.8.64.post1 requires openai>=1.1.0, but you have openai 0.28.1 which is incompatible.\n",
      "nemoguardrails 0.5.0 requires fastapi==0.96.0, but you have fastapi 0.92.0 which is incompatible.\n",
      "nemoguardrails 0.5.0 requires httpx==0.23.3, but you have httpx 0.24.1 which is incompatible.\n",
      "nemoguardrails 0.5.0 requires langchain==0.0.251, but you have langchain 0.0.339 which is incompatible.\n",
      "nemoguardrails 0.5.0 requires nest-asyncio==1.5.6, but you have nest-asyncio 1.5.8 which is incompatible.\n",
      "nemoguardrails 0.5.0 requires starlette==0.27.0, but you have starlette 0.25.0 which is incompatible.\n",
      "nemoguardrails 0.5.0 requires typing-extensions==4.5.0, but you have typing-extensions 4.8.0 which is incompatible.\n",
      "nemoguardrails 0.5.0 requires uvicorn==0.22.0, but you have uvicorn 0.20.0 which is incompatible.\u001b[0m\u001b[31m\n",
      "\u001b[0mSuccessfully installed langchain-0.0.339\n",
      "Requirement already satisfied: duckduckgo-search in /Users/1zuu/anaconda3/envs/llm/lib/python3.10/site-packages (3.9.6)\n",
      "Requirement already satisfied: aiofiles>=23.2.1 in /Users/1zuu/anaconda3/envs/llm/lib/python3.10/site-packages (from duckduckgo-search) (23.2.1)\n",
      "Requirement already satisfied: click>=8.1.7 in /Users/1zuu/anaconda3/envs/llm/lib/python3.10/site-packages (from duckduckgo-search) (8.1.7)\n",
      "Requirement already satisfied: lxml>=4.9.3 in /Users/1zuu/anaconda3/envs/llm/lib/python3.10/site-packages (from duckduckgo-search) (4.9.3)\n",
      "Collecting httpx[brotli,http2,socks]>=0.25.1 (from duckduckgo-search)\n",
      "  Obtaining dependency information for httpx[brotli,http2,socks]>=0.25.1 from https://files.pythonhosted.org/packages/82/61/a5fca4a1e88e40969bbd0cf0d981f3aa76d5057db160b94f49603fc18740/httpx-0.25.1-py3-none-any.whl.metadata\n",
      "  Using cached httpx-0.25.1-py3-none-any.whl.metadata (7.1 kB)\n",
      "Requirement already satisfied: anyio in /Users/1zuu/anaconda3/envs/llm/lib/python3.10/site-packages (from httpx[brotli,http2,socks]>=0.25.1->duckduckgo-search) (3.7.1)\n",
      "Requirement already satisfied: certifi in /Users/1zuu/anaconda3/envs/llm/lib/python3.10/site-packages (from httpx[brotli,http2,socks]>=0.25.1->duckduckgo-search) (2023.7.22)\n",
      "Requirement already satisfied: httpcore in /Users/1zuu/anaconda3/envs/llm/lib/python3.10/site-packages (from httpx[brotli,http2,socks]>=0.25.1->duckduckgo-search) (0.16.3)\n",
      "Requirement already satisfied: idna in /Users/1zuu/anaconda3/envs/llm/lib/python3.10/site-packages (from httpx[brotli,http2,socks]>=0.25.1->duckduckgo-search) (3.4)\n",
      "Requirement already satisfied: sniffio in /Users/1zuu/anaconda3/envs/llm/lib/python3.10/site-packages (from httpx[brotli,http2,socks]>=0.25.1->duckduckgo-search) (1.3.0)\n",
      "Requirement already satisfied: socksio==1.* in /Users/1zuu/anaconda3/envs/llm/lib/python3.10/site-packages (from httpx[brotli,http2,socks]>=0.25.1->duckduckgo-search) (1.0.0)\n",
      "Requirement already satisfied: h2<5,>=3 in /Users/1zuu/anaconda3/envs/llm/lib/python3.10/site-packages (from httpx[brotli,http2,socks]>=0.25.1->duckduckgo-search) (4.1.0)\n",
      "Requirement already satisfied: brotli in /Users/1zuu/anaconda3/envs/llm/lib/python3.10/site-packages (from httpx[brotli,http2,socks]>=0.25.1->duckduckgo-search) (1.1.0)\n",
      "Requirement already satisfied: hyperframe<7,>=6.0 in /Users/1zuu/anaconda3/envs/llm/lib/python3.10/site-packages (from h2<5,>=3->httpx[brotli,http2,socks]>=0.25.1->duckduckgo-search) (6.0.1)\n",
      "Requirement already satisfied: hpack<5,>=4.0 in /Users/1zuu/anaconda3/envs/llm/lib/python3.10/site-packages (from h2<5,>=3->httpx[brotli,http2,socks]>=0.25.1->duckduckgo-search) (4.0.0)\n",
      "Requirement already satisfied: exceptiongroup in /Users/1zuu/anaconda3/envs/llm/lib/python3.10/site-packages (from anyio->httpx[brotli,http2,socks]>=0.25.1->duckduckgo-search) (1.0.4)\n",
      "Requirement already satisfied: h11<0.15,>=0.13 in /Users/1zuu/anaconda3/envs/llm/lib/python3.10/site-packages (from httpcore->httpx[brotli,http2,socks]>=0.25.1->duckduckgo-search) (0.14.0)\n",
      "Using cached httpx-0.25.1-py3-none-any.whl (75 kB)\n",
      "Installing collected packages: httpx\n",
      "  Attempting uninstall: httpx\n",
      "    Found existing installation: httpx 0.24.1\n",
      "    Uninstalling httpx-0.24.1:\n",
      "      Successfully uninstalled httpx-0.24.1\n",
      "\u001b[31mERROR: pip's dependency resolver does not currently take into account all the packages that are installed. This behaviour is the source of the following dependency conflicts.\n",
      "nemoguardrails 0.5.0 requires fastapi==0.96.0, but you have fastapi 0.92.0 which is incompatible.\n",
      "nemoguardrails 0.5.0 requires httpx==0.23.3, but you have httpx 0.25.1 which is incompatible.\n",
      "nemoguardrails 0.5.0 requires langchain==0.0.251, but you have langchain 0.0.339 which is incompatible.\n",
      "nemoguardrails 0.5.0 requires nest-asyncio==1.5.6, but you have nest-asyncio 1.5.8 which is incompatible.\n",
      "nemoguardrails 0.5.0 requires starlette==0.27.0, but you have starlette 0.25.0 which is incompatible.\n",
      "nemoguardrails 0.5.0 requires typing-extensions==4.5.0, but you have typing-extensions 4.8.0 which is incompatible.\n",
      "nemoguardrails 0.5.0 requires uvicorn==0.22.0, but you have uvicorn 0.20.0 which is incompatible.\u001b[0m\u001b[31m\n",
      "\u001b[0mSuccessfully installed httpx-0.25.1\n",
      "Collecting httpx==0.24.1\n",
      "  Obtaining dependency information for httpx==0.24.1 from https://files.pythonhosted.org/packages/ec/91/e41f64f03d2a13aee7e8c819d82ee3aa7cdc484d18c0ae859742597d5aa0/httpx-0.24.1-py3-none-any.whl.metadata\n",
      "  Using cached httpx-0.24.1-py3-none-any.whl.metadata (7.4 kB)\n",
      "Requirement already satisfied: certifi in /Users/1zuu/anaconda3/envs/llm/lib/python3.10/site-packages (from httpx==0.24.1) (2023.7.22)\n",
      "Requirement already satisfied: httpcore<0.18.0,>=0.15.0 in /Users/1zuu/anaconda3/envs/llm/lib/python3.10/site-packages (from httpx==0.24.1) (0.16.3)\n",
      "Requirement already satisfied: idna in /Users/1zuu/anaconda3/envs/llm/lib/python3.10/site-packages (from httpx==0.24.1) (3.4)\n",
      "Requirement already satisfied: sniffio in /Users/1zuu/anaconda3/envs/llm/lib/python3.10/site-packages (from httpx==0.24.1) (1.3.0)\n",
      "Requirement already satisfied: h11<0.15,>=0.13 in /Users/1zuu/anaconda3/envs/llm/lib/python3.10/site-packages (from httpcore<0.18.0,>=0.15.0->httpx==0.24.1) (0.14.0)\n",
      "Requirement already satisfied: anyio<5.0,>=3.0 in /Users/1zuu/anaconda3/envs/llm/lib/python3.10/site-packages (from httpcore<0.18.0,>=0.15.0->httpx==0.24.1) (3.7.1)\n",
      "Requirement already satisfied: exceptiongroup in /Users/1zuu/anaconda3/envs/llm/lib/python3.10/site-packages (from anyio<5.0,>=3.0->httpcore<0.18.0,>=0.15.0->httpx==0.24.1) (1.0.4)\n",
      "Using cached httpx-0.24.1-py3-none-any.whl (75 kB)\n",
      "Installing collected packages: httpx\n",
      "  Attempting uninstall: httpx\n",
      "    Found existing installation: httpx 0.25.1\n",
      "    Uninstalling httpx-0.25.1:\n",
      "      Successfully uninstalled httpx-0.25.1\n",
      "\u001b[31mERROR: pip's dependency resolver does not currently take into account all the packages that are installed. This behaviour is the source of the following dependency conflicts.\n",
      "duckduckgo-search 3.9.6 requires httpx[brotli,http2,socks]>=0.25.1, but you have httpx 0.24.1 which is incompatible.\n",
      "nemoguardrails 0.5.0 requires fastapi==0.96.0, but you have fastapi 0.92.0 which is incompatible.\n",
      "nemoguardrails 0.5.0 requires httpx==0.23.3, but you have httpx 0.24.1 which is incompatible.\n",
      "nemoguardrails 0.5.0 requires langchain==0.0.251, but you have langchain 0.0.339 which is incompatible.\n",
      "nemoguardrails 0.5.0 requires nest-asyncio==1.5.6, but you have nest-asyncio 1.5.8 which is incompatible.\n",
      "nemoguardrails 0.5.0 requires starlette==0.27.0, but you have starlette 0.25.0 which is incompatible.\n",
      "nemoguardrails 0.5.0 requires typing-extensions==4.5.0, but you have typing-extensions 4.8.0 which is incompatible.\n",
      "nemoguardrails 0.5.0 requires uvicorn==0.22.0, but you have uvicorn 0.20.0 which is incompatible.\u001b[0m\u001b[31m\n",
      "\u001b[0mSuccessfully installed httpx-0.24.1\n"
     ]
    }
   ],
   "source": [
    "# !pip install wikipedia\n",
    "# !pip install -U langchain\n",
    "# !pip install duckduckgo-search\n",
    "# !pip install httpx==0.24.1"
   ]
  },
  {
   "cell_type": "code",
   "execution_count": 12,
   "metadata": {},
   "outputs": [],
   "source": [
    "import yaml, os\n",
    "from langchain.agents import Tool\n",
    "from langchain.agents import initialize_agent\n",
    "from langchain.tools import DuckDuckGoSearchRun\n",
    "from langchain.chat_models import AzureChatOpenAI\n",
    "from langchain.utilities import WikipediaAPIWrapper, PythonREPL"
   ]
  },
  {
   "cell_type": "code",
   "execution_count": 13,
   "metadata": {},
   "outputs": [],
   "source": [
    "with open('cadentials.yaml') as f:\n",
    "    credentials = yaml.load(f, Loader=yaml.FullLoader)\n",
    "\n",
    "os.environ[\"OPENAI_API_TYPE\"] = credentials['AD_OPENAI_API_TYPE']\n",
    "os.environ[\"OPENAI_API_VERSION\"] = credentials['AD_OPENAI_API_VERSION']\n",
    "os.environ[\"OPENAI_API_BASE\"] = credentials['AD_OPENAI_API_BASE']\n",
    "os.environ[\"OPENAI_API_KEY\"] = credentials['AD_OPENAI_API_KEY']"
   ]
  },
  {
   "cell_type": "markdown",
   "metadata": {},
   "source": [
    "### just check some simple tools"
   ]
  },
  {
   "cell_type": "code",
   "execution_count": 2,
   "metadata": {},
   "outputs": [],
   "source": [
    "wikipedia = WikipediaAPIWrapper()\n",
    "search = DuckDuckGoSearchRun()\n",
    "python_repl = PythonREPL()"
   ]
  },
  {
   "cell_type": "code",
   "execution_count": 3,
   "metadata": {},
   "outputs": [
    {
     "name": "stdout",
     "output_type": "stream",
     "text": [
      "Page: LangChain\n",
      "Summary: LangChain is a framework designed to simplify the creation of applications using large language models (LLMs). As a language model integration framework, LangChain's use-cases largely overlap with those of language models in general, including document analysis and summarization, chatbots, and code analysis.\n",
      "\n",
      "Page: Prompt engineering\n",
      "Summary: Prompt engineering is the process of structuring text that can be interpreted and understood by a generative AI model. A prompt is natural language text describing the task that an AI should perform.A prompt for a text-to-text model can be a query such as \"what is Fermat's little theorem?\", a command such as \"write a poem about leaves falling\", a short statement of feedback (for example, \"too verbose\", \"too formal\", \"rephrase again\", \"omit this word\") or a longer statement including context, instructions, and input data. Prompt engineering may involve phrasing a query, specifying a style, providing relevant context or assigning a role to the AI such as \"Act as a native French speaker\". A prompt may include a few examples for a model to learn from, such as \"maison -> house, chat -> cat, chien -> dog\", an approach called few-shot learning.When communicating with a text-to-image or a text-to-audio model, a typical prompt is a description of a desired output such as \"a high-quality photo of an astronaut riding a horse\" or \"Lo-fi slow BPM electro chill with organic samples\". Prompting a text-to-image model may involve adding, removing, emphasizing and re-ordering words to achieve a desired subject, style, layout, lighting, and aesthetic.\n",
      "\n",
      "Page: Sentence embedding\n",
      "Summary: In natural language processing, a sentence embedding refers to a numeric representation of a sentence in the form of a vector of real numbers which encodes meaningful semantic information.State of the art embeddings are based on the learned hidden layer representation of dedicated sentence transformer models. BERT pioneered an approach involving the use of a dedicated [CLS] token prepended to the beginning of each sentence inputted into the model; the final hidden state vector of this token encodes information about the sentence and can be fine-tuned for use in sentence classification tasks. In practice however, BERT's sentence embedding with the [CLS] token achieves poor performance, often worse than simply averaging non-contextual word embeddings. SBERT later achieved superior sentence embedding performance by fine tuning BERT's [CLS] token embeddings through the usage of a siamese neural network architecture on the SNLI dataset. \n",
      "Other approaches are loosely based on the idea of distributional semantics applied to sentences. Skip-Thought trains an encoder-decoder structure for the task of neighboring sentences predictions. Though this has been shown to achieve worse performance than approaches such as InferSent or SBERT. \n",
      "An alternative direction is to aggregate word embeddings, such as those returned by Word2vec, into sentence embeddings. The most straightforward approach is to simply compute the average of word vectors, known as continuous bag-of-words (CBOW). However, more elaborate solutions based on word vector quantization have also been proposed. One such approach is the vector of locally aggregated word embeddings (VLAWE), which demonstrated performance improvements in downstream text classification tasks.\n"
     ]
    }
   ],
   "source": [
    "print(wikipedia.run('Langchain'))"
   ]
  },
  {
   "cell_type": "code",
   "execution_count": 4,
   "metadata": {},
   "outputs": [
    {
     "name": "stderr",
     "output_type": "stream",
     "text": [
      "Python REPL can execute arbitrary code. Use with caution.\n"
     ]
    },
    {
     "name": "stdout",
     "output_type": "stream",
     "text": [
      "34\n",
      "\n"
     ]
    }
   ],
   "source": [
    "print(python_repl.run(\"print(17*2)\"))"
   ]
  },
  {
   "cell_type": "code",
   "execution_count": 6,
   "metadata": {},
   "outputs": [
    {
     "name": "stdout",
     "output_type": "stream",
     "text": [
      " On Friday 11/17/2023 the closing price of the Tesla share was $234.30 on NAS. Compared to the opening price on Friday 11/17/2023 on NAS of $232.11, this is a gain of 0.93%. Tesla's market... $233.19 −1.27 (0.54%) View Full Chart As of Nov 20, 2023 3:07pm Cboe BZX Real-Time Price Open Unlock Our Analysis with Morningstar Investor Start Free Trial Company Report View Archive Tesla... Start investing The only app that saves & invests your spare change Claim your $20 bonus investment Learn More Via Acorn's Website Tesla and its high-profile CEO Elon Musk have been two of the... Tesla stock has gone up 135% since January, but it's still 40% off its 2021 high. See if this recent strength is building towards a higher stock price for TSLA in 2025. Tesla, Inc. (TSLA) Stock Price, Quote & News - Stock Analysis 241.20 +5.60 (2.38%) At close: Nov 21, 2023, 4:00 PM 240.17 -1.03 (-0.43%) After-hours: Nov 21, 2023, 4:56 PM EST Overview Financials Statistics Forecast Profile Chart 1D 5D 1M YTD 1Y 5Y Max 2.38% (1D) About TSLA\n"
     ]
    }
   ],
   "source": [
    "print(search.run(\"Tesla stock price?\"))"
   ]
  },
  {
   "cell_type": "markdown",
   "metadata": {},
   "source": [
    "### putting all of them together"
   ]
  },
  {
   "cell_type": "code",
   "execution_count": 8,
   "metadata": {},
   "outputs": [],
   "source": [
    "python_repl_tool =  Tool(\n",
    "                        name = \"python repl\",\n",
    "                        func=python_repl.run,\n",
    "                        description=\"useful for when you need to use python to answer a question. You should input python code\"\n",
    "                        )   \n",
    "\n",
    "wikipedia_tool = Tool(\n",
    "                    name='wikipedia',\n",
    "                    func= wikipedia.run,\n",
    "                    description=\"Useful for when you need to look up a topic, country or person on wikipedia\"\n",
    "                    )\n",
    "\n",
    "duckduckgo_tool = Tool(\n",
    "                    name='DuckDuckGo Search',\n",
    "                    func= search.run,\n",
    "                    description=\"Useful for when you need to do a search on the internet to find information that another tool can't find. be specific with your input.\"\n",
    "                    )"
   ]
  },
  {
   "cell_type": "code",
   "execution_count": 9,
   "metadata": {},
   "outputs": [],
   "source": [
    "tools = [\n",
    "        python_repl_tool,\n",
    "        wikipedia_tool,\n",
    "        duckduckgo_tool\n",
    "        ]"
   ]
  },
  {
   "cell_type": "code",
   "execution_count": 14,
   "metadata": {},
   "outputs": [],
   "source": [
    "llm = AzureChatOpenAI(\n",
    "                    deployment_name=credentials['AD_DEPLOYMENT_ID'],\n",
    "                    model_name=credentials['AD_ENGINE'],\n",
    "                    temperature=0.9, \n",
    "                    max_tokens = 256\n",
    "                    )"
   ]
  },
  {
   "cell_type": "code",
   "execution_count": 15,
   "metadata": {},
   "outputs": [],
   "source": [
    "zero_shot_agent = initialize_agent(\n",
    "                                agent=\"zero-shot-react-description\",\n",
    "                                tools=tools,\n",
    "                                llm=llm,\n",
    "                                verbose=True,\n",
    "                                max_iterations=3,\n",
    "                                )"
   ]
  },
  {
   "cell_type": "code",
   "execution_count": 16,
   "metadata": {},
   "outputs": [
    {
     "name": "stdout",
     "output_type": "stream",
     "text": [
      "Answer the following questions as best you can. You have access to the following tools:\n",
      "\n",
      "python repl: useful for when you need to use python to answer a question. You should input python code\n",
      "wikipedia: Useful for when you need to look up a topic, country or person on wikipedia\n",
      "DuckDuckGo Search: Useful for when you need to do a search on the internet to find information that another tool can't find. be specific with your input.\n",
      "\n",
      "Use the following format:\n",
      "\n",
      "Question: the input question you must answer\n",
      "Thought: you should always think about what to do\n",
      "Action: the action to take, should be one of [python repl, wikipedia, DuckDuckGo Search]\n",
      "Action Input: the input to the action\n",
      "Observation: the result of the action\n",
      "... (this Thought/Action/Action Input/Observation can repeat N times)\n",
      "Thought: I now know the final answer\n",
      "Final Answer: the final answer to the original input question\n",
      "\n",
      "Begin!\n",
      "\n",
      "Question: {input}\n",
      "Thought:{agent_scratchpad}\n"
     ]
    }
   ],
   "source": [
    "print(zero_shot_agent.agent.llm_chain.prompt.template)"
   ]
  },
  {
   "cell_type": "code",
   "execution_count": 17,
   "metadata": {},
   "outputs": [
    {
     "name": "stdout",
     "output_type": "stream",
     "text": [
      "\n",
      "\n",
      "\u001b[1m> Entering new AgentExecutor chain...\u001b[0m\n",
      "\u001b[32;1m\u001b[1;3mI can easily do this calculation in my head, but I can also use python to confirm the answer.\n",
      "Action: python repl\n",
      "Action Input: 17*6\u001b[0m\n",
      "Observation: \u001b[36;1m\u001b[1;3m\u001b[0m\n",
      "Thought:\u001b[32;1m\u001b[1;3mThe answer is 102.\n",
      "Final Answer: 102\u001b[0m\n",
      "\n",
      "\u001b[1m> Finished chain.\u001b[0m\n"
     ]
    },
    {
     "data": {
      "text/plain": [
       "'102'"
      ]
     },
     "execution_count": 17,
     "metadata": {},
     "output_type": "execute_result"
    }
   ],
   "source": [
    "zero_shot_agent.run(\"What is 17*6?\")"
   ]
  },
  {
   "cell_type": "code",
   "execution_count": 19,
   "metadata": {},
   "outputs": [
    {
     "name": "stdout",
     "output_type": "stream",
     "text": [
      "\n",
      "\n",
      "\u001b[1m> Entering new AgentExecutor chain...\u001b[0m\n",
      "\u001b[32;1m\u001b[1;3mI think I can get this information from either Wikipedia or a Python REPL\n",
      "Action: Wikipedia\n",
      "Action Input: \"Barack Obama\"\u001b[0m\n",
      "Observation: Wikipedia is not a valid tool, try one of [python repl, wikipedia, DuckDuckGo Search].\n",
      "Thought:\u001b[32;1m\u001b[1;3mI'll try DuckDuckGo Search instead\n",
      "Action: DuckDuckGo Search\n",
      "Action Input: \"Barack Obama birthdate\"\u001b[0m\n",
      "Observation: \u001b[38;5;200m\u001b[1;3mQuick Facts FULL NAME: Barack Hussein Obama II BORN: August 4, 1961 BIRTHPLACE: Honolulu, Hawaii SPOUSE: Michelle Obama (1992-present) Here are 28 of President Obama's biggest accomplishments as President of the United States. 1 - Rescued the country from the Great Recession, cutting the unemployment rate from 10% to 4.7% over ... Gerren Keith Gaynor | Aug 4, 2023 Loading the player... It's been more than six years since former President Barack Obama left office, leaving behind a historic administration that changed the... Only 5 Former U.S. Presidents Are Still Alive — Including the Oldest, Jimmy Carter. Barack Obama and Bill Clinton also belong to the exclusive group of living former U.S. leaders who can be ... Gerren Keith Gaynor August 4, 2023 · 10 min read 233 President Barack Obama , who many anticipate will play a key role in the 2024 elections, set the blueprint for the Biden-Harris...\u001b[0m\n",
      "Thought:\u001b[32;1m\u001b[1;3mI have found the answer!\n",
      "Final Answer: Barack Obama was born on August 4, 1961.\u001b[0m\n",
      "\n",
      "\u001b[1m> Finished chain.\u001b[0m\n"
     ]
    },
    {
     "data": {
      "text/plain": [
       "'Barack Obama was born on August 4, 1961.'"
      ]
     },
     "execution_count": 19,
     "metadata": {},
     "output_type": "execute_result"
    }
   ],
   "source": [
    "zero_shot_agent.run(\"When was Barak Obama born?\")"
   ]
  },
  {
   "cell_type": "code",
   "execution_count": 20,
   "metadata": {},
   "outputs": [
    {
     "name": "stdout",
     "output_type": "stream",
     "text": [
      "\n",
      "\n",
      "\u001b[1m> Entering new AgentExecutor chain...\u001b[0m\n",
      "\u001b[32;1m\u001b[1;3mI am an AI language model and do not have access to real-time data. I will need to search for an online source that provides the current price of BTC.\n",
      "Action: DuckDuckGo Search\n",
      "Action Input: \"current price of BTC\"\u001b[0m\n",
      "Observation: \u001b[38;5;200m\u001b[1;3mBTC USD Last update: 5:57 AM, November 21, 2023 Refresh Bitcoin Markets Bitcoin is climbing this week. The current price of Bitcoin is $37,040.40 per BTC. With a circulating supply of 19,548,712 BTC, it means that Bitcoin has a total market cap of $725,127,607,239.44. BITCOIN 37,469.10 +1,988.10 +5.60% XRP RIPPLE 0.64769 +0.01811 +2.88% ETH The live price of Bitcoin is $ 36,080.96 per (BTC / USD) with a current market cap of $ 705.20B USD. 24-hour trading volume is $ 24.33B USD. BTC to USD price is updated in real-time. Bitcoin is -2.01% in the last 24 hours with a circulating supply of 19.54M. BTC Price History USD BTC Price Information 24h Low & High Low: $ 35,545.47 Bitcoin btc Add to Watchlist $36,992.00 1.30% Asset Price Change over past 24 hours as of 11/19/23 6:00 PM EST Circulating Supply 19,547,225 Max Supply 21,000,000 Active Trading Pairs 609... Bitcoin - BTC Price, Live Chart, and News | Blockchain.com Bitcoin BTC Price History $ 0.00 • Vol 0.00 BTC 1W 1M MAX Trade Bitcoin with the world's most popular crypto wallet. Over 83 million wallets created to buy, sell, and earn crypto. Buy Bitcoin -> Blockchain # 817135 # 817134 # 817133 # 817132 # 817131 # 817130 # 817129 # 817128 # 817127\u001b[0m\n",
      "Thought:\u001b[32;1m\u001b[1;3mI have found the current price of BTC, but it may not be accurate at the time this conversation is being read as the price of cryptocurrencies can change rapidly.\n",
      "Final Answer: The current price of BTC is $37,040.40 per BTC as of 5:57 AM on November 21, 2023 according to my DuckDuckGo Search.\u001b[0m\n",
      "\n",
      "\u001b[1m> Finished chain.\u001b[0m\n"
     ]
    },
    {
     "data": {
      "text/plain": [
       "'The current price of BTC is $37,040.40 per BTC as of 5:57 AM on November 21, 2023 according to my DuckDuckGo Search.'"
      ]
     },
     "execution_count": 20,
     "metadata": {},
     "output_type": "execute_result"
    }
   ],
   "source": [
    "zero_shot_agent.run(\"What is the current price of BTC?\")"
   ]
  },
  {
   "cell_type": "code",
   "execution_count": 23,
   "metadata": {},
   "outputs": [
    {
     "name": "stdout",
     "output_type": "stream",
     "text": [
      "\n",
      "\n",
      "\u001b[1m> Entering new AgentExecutor chain...\u001b[0m\n",
      "\u001b[32;1m\u001b[1;3mI need to check if 11 is divisible by any integer other than 1 and itself.\n",
      "Action: python repl\n",
      "Action Input: \n",
      "```python\n",
      "for i in range(2, 11):\n",
      "  if 11 % i == 0:\n",
      "    print(\"Not prime\")\n",
      "    break\n",
      "else:\n",
      "  print(\"Prime\")\n",
      "```\u001b[0m\n",
      "Observation: \u001b[36;1m\u001b[1;3mSyntaxError('invalid syntax', ('<string>', 1, 1, '```python\\n', 1, 2))\u001b[0m\n",
      "Thought:\u001b[32;1m\u001b[1;3mI need to fix the syntax error in the code\n",
      "Action: python repl\n",
      "Action Input: \n",
      "```python\n",
      "for i in range(2, 11):\n",
      "  if 11 % i == 0:\n",
      "    print(\"Not prime\")\n",
      "    break\n",
      "else:\n",
      "  print(\"Prime\")\n",
      "```\u001b[0m\n",
      "Observation: \u001b[36;1m\u001b[1;3mSyntaxError('invalid syntax', ('<string>', 1, 1, '```python\\n', 1, 2))\u001b[0m\n",
      "Thought:\u001b[32;1m\u001b[1;3mI need to remove the triple backticks from the code before inputting it into the python repl.\n",
      "Action: python repl\n",
      "Action Input: \n",
      "```python\n",
      "for i in range(2, 11):\n",
      "  if 11 % i == 0:\n",
      "    print(\"Not prime\")\n",
      "    break\n",
      "else:\n",
      "  print(\"Prime\")\n",
      "```\u001b[0m\n",
      "Observation: \u001b[36;1m\u001b[1;3mSyntaxError('invalid syntax', ('<string>', 1, 1, '```python\\n', 1, 2))\u001b[0m\n",
      "Thought:\u001b[32;1m\u001b[1;3m\u001b[0m\n",
      "\n",
      "\u001b[1m> Finished chain.\u001b[0m\n"
     ]
    },
    {
     "data": {
      "text/plain": [
       "'Agent stopped due to iteration limit or time limit.'"
      ]
     },
     "execution_count": 23,
     "metadata": {},
     "output_type": "execute_result"
    }
   ],
   "source": [
    "zero_shot_agent.run(\"Is 11 a prime number or not?\")"
   ]
  }
 ],
 "metadata": {
  "kernelspec": {
   "display_name": "Python 3",
   "language": "python",
   "name": "python3"
  },
  "language_info": {
   "codemirror_mode": {
    "name": "ipython",
    "version": 3
   },
   "file_extension": ".py",
   "mimetype": "text/x-python",
   "name": "python",
   "nbconvert_exporter": "python",
   "pygments_lexer": "ipython3",
   "version": "3.10.13"
  }
 },
 "nbformat": 4,
 "nbformat_minor": 2
}
